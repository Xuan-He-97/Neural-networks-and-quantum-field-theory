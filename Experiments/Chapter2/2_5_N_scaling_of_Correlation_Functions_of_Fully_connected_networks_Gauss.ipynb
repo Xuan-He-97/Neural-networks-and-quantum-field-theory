{
  "nbformat": 4,
  "nbformat_minor": 0,
  "metadata": {
    "colab": {
      "name": "2.5 N-scaling of Correlation Functions of Fully-connected networks Gauss.ipynb",
      "provenance": [],
      "collapsed_sections": [],
      "toc_visible": true,
      "authorship_tag": "ABX9TyNTzVJMLIgKKTk5LosYLbGu",
      "include_colab_link": true
    },
    "kernelspec": {
      "display_name": "Python 3",
      "name": "python3"
    },
    "language_info": {
      "name": "python"
    }
  },
  "cells": [
    {
      "cell_type": "markdown",
      "metadata": {
        "id": "view-in-github",
        "colab_type": "text"
      },
      "source": [
        "<a href=\"https://colab.research.google.com/github/Xuan-He-97/Neural-networks-and-quantum-field-theory/blob/main/Experiments/2_5_N_scaling_of_Correlation_Functions_of_Fully_connected_networks_Gauss.ipynb\" target=\"_parent\"><img src=\"https://colab.research.google.com/assets/colab-badge.svg\" alt=\"Open In Colab\"/></a>"
      ]
    },
    {
      "cell_type": "code",
      "metadata": {
        "id": "Ux7FctxQKUGn"
      },
      "source": [
        "import itertools\n",
        "import pickle\n",
        "import pathlib\n",
        "import os\n",
        "import numpy as np\n",
        "import pandas as pd\n",
        "from tensorflow.keras.layers import Dense, Layer\n",
        "from tensorflow.keras import Model\n",
        "from tensorflow.keras import initializers\n",
        "import matplotlib.pyplot as plt\n",
        "from scipy.special import erf\n",
        "import matplotlib.pyplot as plt\n",
        "import seaborn as sns\n",
        "sns.set()\n",
        "from tqdm import tqdm\n",
        "import time"
      ],
      "execution_count": null,
      "outputs": []
    },
    {
      "cell_type": "markdown",
      "metadata": {
        "id": "_TxyxUEuzr91"
      },
      "source": [
        "### Introduction\n",
        "\n",
        "To understand the scale of deviation from the ReLUProcess results of n-pt functions, we could compute connected piece of the n-pt functions.\n",
        "\n",
        "- 2-pt function is exactly the kernel even away from GP (can be proved)\n",
        "\n",
        "- $\\Delta G^{(n)} \\propto N^{-1}$ for $n = 4, 6$  (can be proved)\n",
        "\n",
        "- connected contribution of the 4-pt function is same as $\\Delta G^{(4)}$ $\\propto N^{-1}$  (can be proved)\n",
        "\n",
        "- connected contribution of the 6-pt function is $\\propto N^{-2}$  (can be proved)\n",
        "\n",
        "In theory,\n",
        "\n",
        "- $G^{(2k)}(x_1, ..., x_{2k})|_{\\text{connected}} = \\left[ G^{(2k)}(x_1, ..., x_{2k}) - S(x_1, ..., x_{2k}) \\right]|_{\\text{internal indices same}}$\n",
        "\n",
        "- $G^{(2k)}(x_1, ..., x_{2k})|_{\\text{connected}} \\propto \\frac{1}{N^{k-1}}$\n",
        "\n"
      ]
    },
    {
      "cell_type": "markdown",
      "metadata": {
        "id": "HUwO2gw5OKiG"
      },
      "source": [
        "### Wick contraction"
      ]
    },
    {
      "cell_type": "code",
      "metadata": {
        "id": "ekQZAWuQKaQa"
      },
      "source": [
        "def G_gp2(X, K):\n",
        "    x1, x2 = X\n",
        "    return K(x1, x2)"
      ],
      "execution_count": null,
      "outputs": []
    },
    {
      "cell_type": "code",
      "metadata": {
        "id": "gONrSHbtOMzn"
      },
      "source": [
        "def G_gp4(X, K):\n",
        "    x1, x2, x3, x4 = X\n",
        "    return K(x1, x2) * K(x3, x4) + K(x1, x3) * K(x2, x4) + K(x1, x4) * K(x2, x3)"
      ],
      "execution_count": null,
      "outputs": []
    },
    {
      "cell_type": "code",
      "metadata": {
        "id": "4q_pY7UKONPH"
      },
      "source": [
        "def G_gp6(X, K):\n",
        "    wick_pairs = [[1, 2, 3, 4, 5, 6], [1, 2, 3, 5, 4, 6], [1, 2, 3, 6, 4, 5], [1, 3, 2, 4, 5, 6], [1, 3, 2, 5, 4, 6],\n",
        "                  [1, 3, 2, 6, 4, 5], [1, 4, 2, 3, 5, 6], [1, 4, 2, 5, 3, 6], [1, 4, 2, 6, 3, 5], \n",
        "                  [1, 5, 2, 3, 4, 6], [1, 5, 2, 4, 3, 6],\n",
        "                  [1, 5, 2, 6, 3, 4], [1, 6, 2, 3, 4, 5], [1, 6, 2, 4, 3, 5], [1, 6, 2, 5, 3, 4]]\n",
        "    res = 0\n",
        "    for x1, x2, x3, x4, x5, x6 in wick_pairs:\n",
        "        res += K(X[x1-1], X[x2-1]) * K(X[x3-1], X[x4-1]) * K(X[x5-1], X[x6-1])\n",
        "    return res"
      ],
      "execution_count": null,
      "outputs": []
    },
    {
      "cell_type": "markdown",
      "metadata": {
        "id": "iJQo2gh4ORX-"
      },
      "source": [
        "### Input of each network"
      ]
    },
    {
      "cell_type": "code",
      "metadata": {
        "id": "jcyBMLAlOPJ2"
      },
      "source": [
        "X_Gauss = np.array([[-0.01], [-0.006], [-0.002], [0.002], [0.006], [0.01]])"
      ],
      "execution_count": null,
      "outputs": []
    },
    {
      "cell_type": "code",
      "metadata": {
        "id": "901XTu-pOXP_"
      },
      "source": [
        "Ns = [2, 3, 4, 5, 10, 20, 50, 100, 500, 1000]"
      ],
      "execution_count": null,
      "outputs": []
    },
    {
      "cell_type": "markdown",
      "metadata": {
        "id": "Qbcd6nlxOaju"
      },
      "source": [
        "### Save variables to google drive"
      ]
    },
    {
      "cell_type": "code",
      "metadata": {
        "colab": {
          "base_uri": "https://localhost:8080/"
        },
        "id": "AtorMFmWOXm3",
        "outputId": "2f8ca838-cb69-450d-ea50-666856ef9a58"
      },
      "source": [
        "from google.colab import drive\n",
        "# log in to the google drive account\n",
        "drive.mount('/gdrive', force_remount=True)"
      ],
      "execution_count": null,
      "outputs": [
        {
          "output_type": "stream",
          "text": [
            "Mounted at /gdrive\n"
          ],
          "name": "stdout"
        }
      ]
    },
    {
      "cell_type": "markdown",
      "metadata": {
        "id": "n6D1Ds26OkAv"
      },
      "source": [
        "### Find all distinct combination of $G^{(n)}$"
      ]
    },
    {
      "cell_type": "code",
      "metadata": {
        "id": "Ru9FICVSOcb7"
      },
      "source": [
        "def findsubsets(X, n):\n",
        "    res = []\n",
        "    for i1 in range(n+1):\n",
        "        for i2 in range(n+1-i1):\n",
        "            for i3 in range(n+1-i1-i2):\n",
        "                for i4 in range(n+1-i1-i2-i3):\n",
        "                    for i5 in range(n+1-i1-i2-i3-i4):\n",
        "                        i6 = n-i1-i2-i3-i4-i5\n",
        "                        res.append([X[0]]*i1 + [X[1]]*i2 + [X[2]]*i3 + [X[3]]*i4 + [X[4]]*i5 + [X[5]]*i6)\n",
        "    return res"
      ],
      "execution_count": null,
      "outputs": []
    },
    {
      "cell_type": "code",
      "metadata": {
        "colab": {
          "base_uri": "https://localhost:8080/"
        },
        "id": "5OJ6VxhXxxZW",
        "outputId": "f48bb34d-92a7-414d-829a-47052373128b"
      },
      "source": [
        "comb2 = findsubsets([i for i in range(6)], 2)\n",
        "print(len(comb2))\n",
        "comb4 = findsubsets([i for i in range(6)], 4)\n",
        "print(len(comb4))\n",
        "comb6 = findsubsets([i for i in range(6)], 6)\n",
        "print(len(comb6))"
      ],
      "execution_count": null,
      "outputs": [
        {
          "output_type": "stream",
          "text": [
            "21\n",
            "126\n",
            "462\n"
          ],
          "name": "stdout"
        }
      ]
    },
    {
      "cell_type": "markdown",
      "metadata": {
        "id": "EXWKcNf8On8-"
      },
      "source": [
        "### n-pt function"
      ]
    },
    {
      "cell_type": "code",
      "metadata": {
        "id": "emvmE6gOOnaf"
      },
      "source": [
        "def npt(Y, comb):\n",
        "    corr_function = []\n",
        "    for c in comb:\n",
        "        corr_function.append(Y[:, :, c].prod(2).mean(1))\n",
        "    \n",
        "    return np.array(corr_function).T # shape = len(comb)"
      ],
      "execution_count": null,
      "outputs": []
    },
    {
      "cell_type": "markdown",
      "metadata": {
        "id": "TdnMinahUff0"
      },
      "source": [
        "### Connected part of n-pt function\n",
        "\n",
        "Connected part of n-pt function is obtained by the following equation.\n",
        "\n",
        "\\begin{aligned}\n",
        "&\\left.G^{(6)}\\left(x_{1}, x_{2}, x_{3}, x_{4}, x_{5}, x_{6}\\right)\\right|_{\\text {connected }}=G^{(6)}\\left(x_{1}, x_{2}, x_{3}, x_{4}, x_{5}, x_{6}\\right)-\\sum_{\\mathcal{P}(a b c d e f)} \\\\\n",
        "&\\left(G^{(4)}\\left(x_{a}, x_{b}, x_{c}, x_{d}\\right) G^{(2)}\\left(x_{e}, x_{f}\\right)-2 \\cdot G^{(2)}\\left(x_{a}, x_{b}\\right) G^{(2)}\\left(x_{c}, x_{d}\\right) G^{(2)}\\left(x_{e}, x_{f}\\right)\\right)\n",
        "\\end{aligned}"
      ]
    },
    {
      "cell_type": "code",
      "metadata": {
        "id": "eV_WhDUtOsce"
      },
      "source": [
        "def G_6_connected(Y, comb):\n",
        "    \n",
        "    #print()\n",
        "    start_time = time.time()\n",
        "    res = npt(Y, comb) # get G^(6) correlation\n",
        "    end_time = time.time()\n",
        "    #print('Complete computing G6 function. Time: ', end_time - start_time) # show time consuming\n",
        "    \n",
        "    \n",
        "    G6 = res.copy() # (100, 462)\n",
        "    comb = np.array(comb)\n",
        "    # wick combinations of G^(4)*G^(2)\n",
        "    wick_pairs24 = [[1, 2, 3, 4, 5, 6], [1, 3, 2, 4, 5, 6], [1, 4, 2, 3, 5, 6], [1, 5, 2, 3, 4, 6], [1, 6, 2, 3, 4, 5], \n",
        "                    [2, 3, 1, 4, 5, 6], [2, 4, 1, 3, 5, 6], [2, 5, 1, 3, 4, 6], [2, 6, 1, 3, 4, 5], [3, 4, 1, 2, 5, 6], \n",
        "                    [3, 5, 1, 2, 4, 6], [3, 6, 1, 2, 4, 5], [4, 5, 1, 2, 3, 6], [4, 6, 1, 2, 3, 5], [5, 6, 1, 2, 3, 4]]\n",
        "    \n",
        "    G2s, G4s = [], []\n",
        "    # Compute G4*G2 contribution\n",
        "    start_time = time.time()\n",
        "    for x in wick_pairs24:\n",
        "        x = [i-1 for i in x] # convert x to list of indices\n",
        "        G2 = npt2[[tuple(i) for i in comb[:, x[:2]]]].values # get 2-pt function, the size of G2 is (100, 462)\n",
        "        G4 = npt4[[tuple(i) for i in comb[:, x[2:]]]].values # get 4-pt function, the size of G4 is (100, 462)\n",
        "        G2s.append(G2)\n",
        "        G4s.append(G4)\n",
        "        res -= G4 * G2\n",
        "    G2s, G4s = np.array(G2s), np.array(G4s)  # (15, 100, 462)\n",
        "    end_time = time.time()\n",
        "    #print('Complete computing G4*G2 function. Time: ', end_time - start_time) # show time consuming\n",
        "\n",
        "    # wick combinations of G^(2)*G^(2)*G^(2)\n",
        "    wick_pairs222 = [[1, 2, 3, 4, 5, 6], [1, 2, 3, 5, 4, 6], [1, 2, 3, 6, 4, 5], [1, 3, 2, 4, 5, 6], [1, 3, 2, 5, 4, 6], [1, 3, 2, 6, 4, 5]\n",
        "                     , [1, 4, 2, 3, 5, 6], [1, 4, 2, 5, 3, 6], [1, 4, 2, 6, 3, 5], [1, 5, 2, 3, 4, 6], [1, 5, 2, 4, 3, 6], \n",
        "                     [1, 5, 2, 6, 3, 4], [1, 6, 2, 3, 4, 5], [1, 6, 2, 4, 3, 5], [1, 6, 2, 5, 3, 4]]\n",
        "    start_time = time.time()\n",
        "    for x in wick_pairs222:\n",
        "        x = [i-1 for i in x]  # convert x to list of indices\n",
        "        res += 2 * npt2[[tuple(i) for i in comb[:, x[:2]]]].values * npt2[[tuple(i) for i in comb[:, x[2:4]]]].values * npt2[[tuple(i) for i in comb[:, x[4:]]]].values \n",
        "\n",
        "    end_time = time.time()\n",
        "    #print('Complete computing G2*G2*G2 function. Time: ', end_time - start_time) # show time consuming\n",
        "    #print()\n",
        "    return res, G6, G2s, G4s"
      ],
      "execution_count": null,
      "outputs": []
    },
    {
      "cell_type": "code",
      "metadata": {
        "id": "6risO-RBM9T6"
      },
      "source": [
        "def K_Gauss(x, y, sigmab2=1.0, sigmaw2=1.0, d_in=1.0):\n",
        "    return sigmab2 + sigmaw2 * np.exp(-sigmaw2 * np.square(x - y) / (2.0*d_in))"
      ],
      "execution_count": null,
      "outputs": []
    },
    {
      "cell_type": "code",
      "metadata": {
        "id": "39Rr-NN4fJQ8"
      },
      "source": [
        "# Load experiment results\n",
        "fx_exps = []\n",
        "for N in Ns:\n",
        "    with open('/gdrive/MyDrive/NNGP/Gauss/fx_exp_' + str(N) + '.pickle', 'rb') as handle:\n",
        "        fx_exp = pickle.load(handle)\n",
        "        fx_exps.append(fx_exp)"
      ],
      "execution_count": null,
      "outputs": []
    },
    {
      "cell_type": "code",
      "metadata": {
        "colab": {
          "base_uri": "https://localhost:8080/"
        },
        "id": "6J1_bYE5jspB",
        "outputId": "e810dbe8-e2e8-4925-a13a-b7c50fe1d7f6"
      },
      "source": [
        "%%time\n",
        "connected_list, G6_list, G2s_list, G4s_list = [], [], [], []\n",
        "for fx_exp in tqdm(fx_exps):\n",
        "    # Compute 2-pt function\n",
        "    npt2 = npt(fx_exp, comb2)\n",
        "    npt2 = pd.DataFrame(npt2, columns=[tuple(i) for i in comb2])\n",
        "    # Compute 4-pt function\n",
        "    npt4 = npt(fx_exp, comb4)\n",
        "    npt4 = pd.DataFrame(npt4, columns=[tuple(i) for i in comb4])\n",
        "    \n",
        "    # Compute 6-pt function and save the intermediate results\n",
        "    connected, G6, G2s, G4s = G_6_connected(fx_exp, comb6)\n",
        "    connected_list.append(connected)\n",
        "    G6_list.append(G6)\n",
        "    G2s_list.append(G2s)\n",
        "    G4s_list.append(G4s)"
      ],
      "execution_count": null,
      "outputs": [
        {
          "output_type": "stream",
          "text": [
            "100%|██████████| 10/10 [54:55<00:00, 329.54s/it]"
          ],
          "name": "stderr"
        },
        {
          "output_type": "stream",
          "text": [
            "CPU times: user 55min 8s, sys: 8.95 s, total: 55min 17s\n",
            "Wall time: 54min 55s\n"
          ],
          "name": "stdout"
        },
        {
          "output_type": "stream",
          "text": [
            "\n"
          ],
          "name": "stderr"
        }
      ]
    },
    {
      "cell_type": "markdown",
      "metadata": {
        "id": "qzb50m2-9S3A"
      },
      "source": [
        "### Background of the connected part\n",
        "\n",
        "The error in the connected 6-pt functions is the combination of 6-pt error and 4-pt error.\n",
        "\n",
        "$$\n",
        "\\left.\\delta G^{(6)}\\right|_{\\text {connected }}=\\sqrt{\\left(\\delta G^{(6)}\\right)^{2}+\\left(G^{(2)} \\delta G^{(4)}\\right)^2} .\n",
        "$$"
      ]
    },
    {
      "cell_type": "code",
      "metadata": {
        "colab": {
          "base_uri": "https://localhost:8080/"
        },
        "id": "vrOoNNNi6iIV",
        "outputId": "2551a2cf-010f-4d84-a455-d38d568c547a"
      },
      "source": [
        "G6_list[0].shape"
      ],
      "execution_count": null,
      "outputs": [
        {
          "output_type": "execute_result",
          "data": {
            "text/plain": [
              "(100, 462)"
            ]
          },
          "metadata": {
            "tags": []
          },
          "execution_count": 27
        }
      ]
    },
    {
      "cell_type": "code",
      "metadata": {
        "colab": {
          "base_uri": "https://localhost:8080/"
        },
        "id": "O3iGVGWn14Uo",
        "outputId": "e71a84b6-dab6-45cd-c8c5-ee3fa89dd150"
      },
      "source": [
        "bk_list = []\n",
        "for i in tqdm(range(len(fx_exps))):\n",
        "    bk = np.sqrt(np.square(G6_list[i].std(0)) + (np.square(G4s_list[i].std(1)) * np.square(G2s_list[i].mean(1))).sum(0))\n",
        "    bk_list.append(bk)"
      ],
      "execution_count": null,
      "outputs": [
        {
          "output_type": "stream",
          "text": [
            "100%|██████████| 10/10 [00:00<00:00, 57.65it/s]\n"
          ],
          "name": "stderr"
        }
      ]
    },
    {
      "cell_type": "markdown",
      "metadata": {
        "id": "wsLFER8_Towf"
      },
      "source": [
        "### Compute $G^{(6)}_{GP}$ value\n",
        "\n",
        "The connected part of 6-pt function is normalized by GP 6-pt function."
      ]
    },
    {
      "cell_type": "code",
      "metadata": {
        "colab": {
          "base_uri": "https://localhost:8080/"
        },
        "id": "H46KbOUFTXIZ",
        "outputId": "7de7bc4f-50e5-44d4-9f2d-8307bd820ad6"
      },
      "source": [
        "comb6_Gauss = findsubsets(X_Gauss.reshape(-1), 6)\n",
        "print(len(comb6_Gauss))"
      ],
      "execution_count": null,
      "outputs": [
        {
          "output_type": "stream",
          "text": [
            "462\n"
          ],
          "name": "stdout"
        }
      ]
    },
    {
      "cell_type": "code",
      "metadata": {
        "id": "9WCijz8hTadQ"
      },
      "source": [
        "pt6_gp_Gauss = []\n",
        "for c in comb6_Gauss:\n",
        "    pt6_gp_Gauss.append(G_gp6(c, K_Gauss))\n",
        "\n",
        "pt6_gp_Gauss = np.array(pt6_gp_Gauss)"
      ],
      "execution_count": null,
      "outputs": []
    },
    {
      "cell_type": "markdown",
      "metadata": {
        "id": "CVHHoksJUnsX"
      },
      "source": [
        "### Plot Connected part"
      ]
    },
    {
      "cell_type": "code",
      "metadata": {
        "colab": {
          "base_uri": "https://localhost:8080/",
          "height": 307
        },
        "id": "S8LDMV1RAKtn",
        "outputId": "a2e8f874-b68b-411e-9d2e-eb8f6fe2f27b"
      },
      "source": [
        "mean_df = pd.DataFrame(np.log10(np.abs(np.array(connected_list).mean(1)) / pt6_gp_Gauss), columns=['signal']*connected_list[0].shape[-1])\n",
        "std_df = pd.DataFrame(np.log10(bk_list / pt6_gp_Gauss), columns=['background']*connected_list[0].shape[-1])\n",
        "colors = ['r']*connected_list[0].shape[-1] + ['b']*connected_list[0].shape[-1]\n",
        "concated_df = pd.concat([std_df, mean_df], axis=1)\n",
        "concated_df.index = [np.log10(N) for N in Ns]\n",
        "ax = concated_df.plot(color=colors, legend=False)\n",
        "\n",
        "lines, labels = ax.get_legend_handles_labels()\n",
        "ax.legend([lines[0], lines[-1]], [labels[0], labels[-1]], loc='best')\n",
        "plt.xlabel(\"$log_{10}N$\")\n",
        "plt.ylabel(\"$log_{10}m_6$\")\n",
        "plt.title(\"Gauss-net 6-pt Connected, $\\sigma_b=1$\")\n",
        "plt.show() "
      ],
      "execution_count": null,
      "outputs": [
        {
          "output_type": "display_data",
          "data": {
            "image/png": "[encoded data removed]",
            "text/plain": [
              "<Figure size 432x288 with 1 Axes>"
            ]
          },
          "metadata": {
            "tags": [],
            "needs_background": "light"
          }
        }
      ]
    },
    {
      "cell_type": "markdown",
      "metadata": {
        "id": "9WhBIGiKcBiB"
      },
      "source": [
        "#### Fit the signal\n",
        "\n",
        "The signal is linearly decreasing when $N < 100$. Fit this part of signal and add its plot on the previous graph."
      ]
    },
    {
      "cell_type": "code",
      "metadata": {
        "id": "WHMpoBMJMIyU"
      },
      "source": [
        "x = np.log10(Ns)\n",
        "y = np.log10(np.array(connected_list).mean(1)).mean(1)\n",
        "z = np.polyfit(x, y, 1)\n",
        "p = np.poly1d(z)\n",
        "xp = x"
      ],
      "execution_count": null,
      "outputs": []
    },
    {
      "cell_type": "code",
      "metadata": {
        "colab": {
          "base_uri": "https://localhost:8080/",
          "height": 307
        },
        "id": "nI6Ag9oOVSUv",
        "outputId": "b82c4a32-199d-4318-dcbc-637f0de4d7ec"
      },
      "source": [
        "mean_df = pd.DataFrame(np.log10(np.array(connected_list).mean(1)), columns=['signal']*connected_list[0].shape[-1])\n",
        "std_df = pd.DataFrame(np.log10(np.array(connected_list).std(1)), columns=['background']*connected_list[0].shape[-1])  \n",
        "colors = ['r']*connected_list[0].shape[-1] + ['b']*connected_list[0].shape[-1]\n",
        "concated_df = pd.concat([std_df, mean_df], axis=1)\n",
        "concated_df.index = [np.log10(N) for N in Ns]\n",
        "ax = concated_df.plot(color=colors, legend=False)\n",
        "line = ax.plot(xp, p(xp), '--', label='slope = ' + str(round(z[0], 3)), c='g')\n",
        "lines, labels = ax.get_legend_handles_labels()\n",
        "ax.legend([lines[0], lines[-2], lines[-1]], [labels[0], labels[-2], labels[-1]], loc='best')\n",
        "plt.xlabel(\"$log_{10}N$\")\n",
        "plt.ylabel(\"$log_{10}m_6$\")\n",
        "plt.title(\"Gauss-net 6-pt Connected, $\\sigma_b=1$\")\n",
        "plt.show() "
      ],
      "execution_count": null,
      "outputs": [
        {
          "output_type": "display_data",
          "data": {
            "image/png": "[encoded data removed]",
            "text/plain": [
              "<Figure size 432x288 with 1 Axes>"
            ]
          },
          "metadata": {
            "tags": [],
            "needs_background": "light"
          }
        }
      ]
    },
    {
      "cell_type": "code",
      "metadata": {
        "id": "XmVRPSFnOt2e"
      },
      "source": [
        ""
      ],
      "execution_count": null,
      "outputs": []
    }
  ]
}
