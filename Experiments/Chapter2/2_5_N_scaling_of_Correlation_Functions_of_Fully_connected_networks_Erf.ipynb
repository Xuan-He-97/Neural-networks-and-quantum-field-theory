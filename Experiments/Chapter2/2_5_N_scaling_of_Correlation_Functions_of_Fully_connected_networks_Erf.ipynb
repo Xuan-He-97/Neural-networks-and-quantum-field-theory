{
  "nbformat": 4,
  "nbformat_minor": 0,
  "metadata": {
    "colab": {
      "name": "2.5 N-scaling of Correlation Functions of Fully-connected networks Erf.ipynb",
      "provenance": [],
      "collapsed_sections": [],
      "authorship_tag": "ABX9TyOtRTrvmHYlaucxLQN3O5jk",
      "include_colab_link": true
    },
    "kernelspec": {
      "display_name": "Python 3",
      "name": "python3"
    },
    "language_info": {
      "name": "python"
    }
  },
  "cells": [
    {
      "cell_type": "markdown",
      "metadata": {
        "id": "view-in-github",
        "colab_type": "text"
      },
      "source": [
        "<a href=\"https://colab.research.google.com/github/Xuan-He-97/Neural-networks-and-quantum-field-theory/blob/main/Experiments/2_5_N_scaling_of_Correlation_Functions_of_Fully_connected_networks_Erf.ipynb\" target=\"_parent\"><img src=\"https://colab.research.google.com/assets/colab-badge.svg\" alt=\"Open In Colab\"/></a>"
      ]
    },
    {
      "cell_type": "code",
      "metadata": {
        "id": "Ux7FctxQKUGn"
      },
      "source": [
        "import itertools\n",
        "import pickle\n",
        "import pathlib\n",
        "import os\n",
        "import numpy as np\n",
        "import pandas as pd\n",
        "from tensorflow.keras.layers import Dense, Layer\n",
        "from tensorflow.keras import Model\n",
        "from tensorflow.keras import initializers\n",
        "import matplotlib.pyplot as plt\n",
        "from scipy.special import erf\n",
        "import matplotlib.pyplot as plt\n",
        "import seaborn as sns\n",
        "sns.set()\n",
        "from tqdm import tqdm\n",
        "import time"
      ],
      "execution_count": null,
      "outputs": []
    },
    {
      "cell_type": "markdown",
      "metadata": {
        "id": "_TxyxUEuzr91"
      },
      "source": [
        "### Introduction\n",
        "\n",
        "To understand the scale of deviation from the ReLUProcess results of n-pt functions, we could compute connected piece of the n-pt functions.\n",
        "\n",
        "- 2-pt function is exactly the kernel even away from GP (can be proved)\n",
        "\n",
        "- $\\Delta G^{(n)} \\propto N^{-1}$ for $n = 4, 6$  (can be proved)\n",
        "\n",
        "- connected contribution of the 4-pt function is same as $\\Delta G^{(4)}$ $\\propto N^{-1}$  (can be proved)\n",
        "\n",
        "- connected contribution of the 6-pt function is $\\propto N^{-2}$  (can be proved)\n",
        "\n",
        "In theory,\n",
        "\n",
        "- $G^{(2k)}(x_1, ..., x_{2k})|_{\\text{connected}} = \\left[ G^{(2k)}(x_1, ..., x_{2k}) - S(x_1, ..., x_{2k}) \\right]|_{\\text{internal indices same}}$\n",
        "\n",
        "- $G^{(2k)}(x_1, ..., x_{2k})|_{\\text{connected}} \\propto \\frac{1}{N^{k-1}}$\n"
      ]
    },
    {
      "cell_type": "markdown",
      "metadata": {
        "id": "HUwO2gw5OKiG"
      },
      "source": [
        "### Wick contraction"
      ]
    },
    {
      "cell_type": "code",
      "metadata": {
        "id": "ekQZAWuQKaQa"
      },
      "source": [
        "def G_gp2(X, K):\n",
        "    x1, x2 = X\n",
        "    return K(x1, x2)"
      ],
      "execution_count": null,
      "outputs": []
    },
    {
      "cell_type": "code",
      "metadata": {
        "id": "gONrSHbtOMzn"
      },
      "source": [
        "def G_gp4(X, K):\n",
        "    x1, x2, x3, x4 = X\n",
        "    return K(x1, x2) * K(x3, x4) + K(x1, x3) * K(x2, x4) + K(x1, x4) * K(x2, x3)"
      ],
      "execution_count": null,
      "outputs": []
    },
    {
      "cell_type": "code",
      "metadata": {
        "id": "4q_pY7UKONPH"
      },
      "source": [
        "def G_gp6(X, K):\n",
        "    wick_pairs = [[1, 2, 3, 4, 5, 6], [1, 2, 3, 5, 4, 6], [1, 2, 3, 6, 4, 5], [1, 3, 2, 4, 5, 6], [1, 3, 2, 5, 4, 6],\n",
        "                  [1, 3, 2, 6, 4, 5], [1, 4, 2, 3, 5, 6], [1, 4, 2, 5, 3, 6], [1, 4, 2, 6, 3, 5], \n",
        "                  [1, 5, 2, 3, 4, 6], [1, 5, 2, 4, 3, 6],\n",
        "                  [1, 5, 2, 6, 3, 4], [1, 6, 2, 3, 4, 5], [1, 6, 2, 4, 3, 5], [1, 6, 2, 5, 3, 4]]\n",
        "    res = 0\n",
        "    for x1, x2, x3, x4, x5, x6 in wick_pairs:\n",
        "        res += K(X[x1-1], X[x2-1]) * K(X[x3-1], X[x4-1]) * K(X[x5-1], X[x6-1])\n",
        "    return res"
      ],
      "execution_count": null,
      "outputs": []
    },
    {
      "cell_type": "markdown",
      "metadata": {
        "id": "iJQo2gh4ORX-"
      },
      "source": [
        "### Input of each network"
      ]
    },
    {
      "cell_type": "code",
      "metadata": {
        "id": "jcyBMLAlOPJ2"
      },
      "source": [
        "X_erf = np.array([[0.002], [0.004], [0.006], [0.008], [0.010], [0.012]])"
      ],
      "execution_count": null,
      "outputs": []
    },
    {
      "cell_type": "code",
      "metadata": {
        "id": "901XTu-pOXP_"
      },
      "source": [
        "Ns = [2, 3, 4, 5, 10, 20, 50, 100, 500, 1000]"
      ],
      "execution_count": null,
      "outputs": []
    },
    {
      "cell_type": "markdown",
      "metadata": {
        "id": "Qbcd6nlxOaju"
      },
      "source": [
        "### Save variables to google drive"
      ]
    },
    {
      "cell_type": "code",
      "metadata": {
        "colab": {
          "base_uri": "https://localhost:8080/"
        },
        "id": "AtorMFmWOXm3",
        "outputId": "1a739e86-9e9b-4adf-ac7a-c62e58390d9c"
      },
      "source": [
        "from google.colab import drive\n",
        "# log in to the google drive account\n",
        "drive.mount('/gdrive', force_remount=True)"
      ],
      "execution_count": null,
      "outputs": [
        {
          "output_type": "stream",
          "text": [
            "Mounted at /gdrive\n"
          ],
          "name": "stdout"
        }
      ]
    },
    {
      "cell_type": "markdown",
      "metadata": {
        "id": "n6D1Ds26OkAv"
      },
      "source": [
        "### Find all distinct combination of $G^{(n)}$"
      ]
    },
    {
      "cell_type": "code",
      "metadata": {
        "id": "Ru9FICVSOcb7"
      },
      "source": [
        "def findsubsets(X, n):\n",
        "    res = []\n",
        "    for i1 in range(n+1):\n",
        "        for i2 in range(n+1-i1):\n",
        "            for i3 in range(n+1-i1-i2):\n",
        "                for i4 in range(n+1-i1-i2-i3):\n",
        "                    for i5 in range(n+1-i1-i2-i3-i4):\n",
        "                        i6 = n-i1-i2-i3-i4-i5\n",
        "                        res.append([X[0]]*i1 + [X[1]]*i2 + [X[2]]*i3 + [X[3]]*i4 + [X[4]]*i5 + [X[5]]*i6)\n",
        "    return res"
      ],
      "execution_count": null,
      "outputs": []
    },
    {
      "cell_type": "code",
      "metadata": {
        "colab": {
          "base_uri": "https://localhost:8080/"
        },
        "id": "5OJ6VxhXxxZW",
        "outputId": "3d9eca47-06d8-497b-d143-e5ae1bddbf09"
      },
      "source": [
        "comb2 = findsubsets([i for i in range(6)], 2)\n",
        "print(len(comb2))\n",
        "comb4 = findsubsets([i for i in range(6)], 4)\n",
        "print(len(comb4))\n",
        "comb6 = findsubsets([i for i in range(6)], 6)\n",
        "print(len(comb6))"
      ],
      "execution_count": null,
      "outputs": [
        {
          "output_type": "stream",
          "text": [
            "21\n",
            "126\n",
            "462\n"
          ],
          "name": "stdout"
        }
      ]
    },
    {
      "cell_type": "markdown",
      "metadata": {
        "id": "EXWKcNf8On8-"
      },
      "source": [
        "### n-pt function"
      ]
    },
    {
      "cell_type": "code",
      "metadata": {
        "id": "emvmE6gOOnaf"
      },
      "source": [
        "def npt(Y, comb):\n",
        "    corr_function = []\n",
        "    for c in comb:\n",
        "        corr_function.append(Y[:, :, c].prod(2).mean(1))\n",
        "    \n",
        "    return np.array(corr_function).T # shape = len(comb)"
      ],
      "execution_count": null,
      "outputs": []
    },
    {
      "cell_type": "markdown",
      "metadata": {
        "id": "TdnMinahUff0"
      },
      "source": [
        "### Connected part of n-pt function\n",
        "\n",
        "Connected part of n-pt function is obtained by the following equation.\n",
        "\n",
        "\\begin{aligned}\n",
        "&\\left.G^{(6)}\\left(x_{1}, x_{2}, x_{3}, x_{4}, x_{5}, x_{6}\\right)\\right|_{\\text {connected }}=G^{(6)}\\left(x_{1}, x_{2}, x_{3}, x_{4}, x_{5}, x_{6}\\right)-\\sum_{\\mathcal{P}(a b c d e f)} \\\\\n",
        "&\\left(G^{(4)}\\left(x_{a}, x_{b}, x_{c}, x_{d}\\right) G^{(2)}\\left(x_{e}, x_{f}\\right)-2 \\cdot G^{(2)}\\left(x_{a}, x_{b}\\right) G^{(2)}\\left(x_{c}, x_{d}\\right) G^{(2)}\\left(x_{e}, x_{f}\\right)\\right)\n",
        "\\end{aligned}"
      ]
    },
    {
      "cell_type": "code",
      "metadata": {
        "id": "eV_WhDUtOsce"
      },
      "source": [
        "def G_6_connected(Y, comb):\n",
        "    \n",
        "    #print()\n",
        "    start_time = time.time()\n",
        "    res = npt(Y, comb) # get G^(6) correlation\n",
        "    end_time = time.time()\n",
        "    #print('Complete computing G6 function. Time: ', end_time - start_time) # show time consuming\n",
        "    \n",
        "    \n",
        "    G6 = res.copy() # (100, 462)\n",
        "    comb = np.array(comb)\n",
        "    # wick combinations of G^(4)*G^(2)\n",
        "    wick_pairs24 = [[1, 2, 3, 4, 5, 6], [1, 3, 2, 4, 5, 6], [1, 4, 2, 3, 5, 6], [1, 5, 2, 3, 4, 6], [1, 6, 2, 3, 4, 5], \n",
        "                    [2, 3, 1, 4, 5, 6], [2, 4, 1, 3, 5, 6], [2, 5, 1, 3, 4, 6], [2, 6, 1, 3, 4, 5], [3, 4, 1, 2, 5, 6], \n",
        "                    [3, 5, 1, 2, 4, 6], [3, 6, 1, 2, 4, 5], [4, 5, 1, 2, 3, 6], [4, 6, 1, 2, 3, 5], [5, 6, 1, 2, 3, 4]]\n",
        "    \n",
        "    G2s, G4s = [], []\n",
        "    # Compute G4*G2 contribution\n",
        "    start_time = time.time()\n",
        "    for x in wick_pairs24:\n",
        "        x = [i-1 for i in x] # convert x to list of indices\n",
        "        G2 = npt2[[tuple(i) for i in comb[:, x[:2]]]].values # get 2-pt function, the size of G2 is (100, 462)\n",
        "        G4 = npt4[[tuple(i) for i in comb[:, x[2:]]]].values # get 4-pt function, the size of G4 is (100, 462)\n",
        "        G2s.append(G2)\n",
        "        G4s.append(G4)\n",
        "        res -= G4 * G2\n",
        "    G2s, G4s = np.array(G2s), np.array(G4s)  # (15, 100, 462)\n",
        "    end_time = time.time()\n",
        "    #print('Complete computing G4*G2 function. Time: ', end_time - start_time) # show time consuming\n",
        "\n",
        "    # wick combinations of G^(2)*G^(2)*G^(2)\n",
        "    wick_pairs222 = [[1, 2, 3, 4, 5, 6], [1, 2, 3, 5, 4, 6], [1, 2, 3, 6, 4, 5], [1, 3, 2, 4, 5, 6], [1, 3, 2, 5, 4, 6], [1, 3, 2, 6, 4, 5]\n",
        "                     , [1, 4, 2, 3, 5, 6], [1, 4, 2, 5, 3, 6], [1, 4, 2, 6, 3, 5], [1, 5, 2, 3, 4, 6], [1, 5, 2, 4, 3, 6], \n",
        "                     [1, 5, 2, 6, 3, 4], [1, 6, 2, 3, 4, 5], [1, 6, 2, 4, 3, 5], [1, 6, 2, 5, 3, 4]]\n",
        "    start_time = time.time()\n",
        "    for x in wick_pairs222:\n",
        "        x = [i-1 for i in x]  # convert x to list of indices\n",
        "        res += 2 * npt2[[tuple(i) for i in comb[:, x[:2]]]].values * npt2[[tuple(i) for i in comb[:, x[2:4]]]].values * npt2[[tuple(i) for i in comb[:, x[4:]]]].values \n",
        "\n",
        "    end_time = time.time()\n",
        "    #print('Complete computing G2*G2*G2 function. Time: ', end_time - start_time) # show time consuming\n",
        "    #print()\n",
        "    return res, G6, G2s, G4s"
      ],
      "execution_count": null,
      "outputs": []
    },
    {
      "cell_type": "code",
      "metadata": {
        "id": "6risO-RBM9T6"
      },
      "source": [
        "def K_erf(x, y, sigmab2=1.0, sigmaw2=1.0, d_in=1.0):\n",
        "    xy = x * y\n",
        "    xx = x * x\n",
        "    yy = y * y\n",
        "    corr = np.sqrt((1.0 + 2.0*sigmab2 + 2.0*sigmaw2*xx/d_in) * (1.0 + 2.0*sigmab2 + 2.0*sigmaw2*yy/d_in))\n",
        "    return sigmab2 + sigmaw2 * (2.0 / np.pi) * np.arcsin(2.0 * (sigmab2 + sigmaw2*xy/d_in) / corr)"
      ],
      "execution_count": null,
      "outputs": []
    },
    {
      "cell_type": "code",
      "metadata": {
        "id": "39Rr-NN4fJQ8"
      },
      "source": [
        "fx_exps = []\n",
        "for N in Ns:\n",
        "    with open('/gdrive/MyDrive/NNGP/erf/fx_exp_' + str(N) + '.pickle', 'rb') as handle:\n",
        "        fx_exp = pickle.load(handle)\n",
        "        fx_exps.append(fx_exp)"
      ],
      "execution_count": null,
      "outputs": []
    },
    {
      "cell_type": "code",
      "metadata": {
        "colab": {
          "base_uri": "https://localhost:8080/"
        },
        "id": "6J1_bYE5jspB",
        "outputId": "5dd6d8bf-27ff-4876-80d6-f03118199dde"
      },
      "source": [
        "%%time\n",
        "connected_list, G6_list, G2s_list, G4s_list = [], [], [], []\n",
        "for fx_exp in tqdm(fx_exps):\n",
        "    # Compute 2-pt function\n",
        "    npt2 = npt(fx_exp, comb2)\n",
        "    npt2 = pd.DataFrame(npt2, columns=[tuple(i) for i in comb2])\n",
        "    # Compute 4-pt function\n",
        "    npt4 = npt(fx_exp, comb4)\n",
        "    npt4 = pd.DataFrame(npt4, columns=[tuple(i) for i in comb4])\n",
        "    \n",
        "    # Compute 6-pt function and save the intermediate results\n",
        "    connected, G6, G2s, G4s = G_6_connected(fx_exp, comb6)\n",
        "    connected_list.append(connected)\n",
        "    G6_list.append(G6)\n",
        "    G2s_list.append(G2s)\n",
        "    G4s_list.append(G4s)"
      ],
      "execution_count": null,
      "outputs": [
        {
          "output_type": "stream",
          "text": [
            "100%|██████████| 10/10 [34:25<00:00, 206.53s/it]"
          ],
          "name": "stderr"
        },
        {
          "output_type": "stream",
          "text": [
            "CPU times: user 34min 26s, sys: 11.3 s, total: 34min 37s\n",
            "Wall time: 34min 25s\n"
          ],
          "name": "stdout"
        },
        {
          "output_type": "stream",
          "text": [
            "\n"
          ],
          "name": "stderr"
        }
      ]
    },
    {
      "cell_type": "code",
      "metadata": {
        "colab": {
          "base_uri": "https://localhost:8080/"
        },
        "id": "JsT0HbupUMv2",
        "outputId": "855faafc-003f-42fc-8783-ab2df45bfc8c"
      },
      "source": [
        "connected_list[0]"
      ],
      "execution_count": null,
      "outputs": [
        {
          "output_type": "execute_result",
          "data": {
            "text/plain": [
              "array([[-0.33879788, -0.33908894, -0.33938008, ..., -0.34692614,\n",
              "        -0.34721639, -0.34750574],\n",
              "       [ 0.0414222 ,  0.04127772,  0.04113346, ...,  0.03747339,\n",
              "         0.0373358 ,  0.03719868],\n",
              "       [ 0.29044983,  0.29038684,  0.2903239 , ...,  0.28869326,\n",
              "         0.28863099,  0.28856852],\n",
              "       ...,\n",
              "       [-0.18835861, -0.1885357 , -0.18871308, ..., -0.19341331,\n",
              "        -0.19359775, -0.19378217],\n",
              "       [-0.2550801 , -0.25519956, -0.25531912, ..., -0.25841979,\n",
              "        -0.25853959, -0.25865867],\n",
              "       [ 0.23950362,  0.23960579,  0.23970774, ...,  0.24231305,\n",
              "         0.24241079,  0.24250896]])"
            ]
          },
          "metadata": {
            "tags": []
          },
          "execution_count": 18
        }
      ]
    },
    {
      "cell_type": "markdown",
      "metadata": {
        "id": "qzb50m2-9S3A"
      },
      "source": [
        "### Background of the connected part\n",
        "\n",
        "The error in the connected 6-pt functions is the combination of 6-pt error and 4-pt error.\n",
        "\n",
        "$$\n",
        "\\left.\\delta G^{(6)}\\right|_{\\text {connected }}=\\sqrt{\\left(\\delta G^{(6)}\\right)^{2}+\\left(G^{(2)} \\delta G^{(4)}\\right)^2} .\n",
        "$$"
      ]
    },
    {
      "cell_type": "code",
      "metadata": {
        "id": "O3iGVGWn14Uo",
        "colab": {
          "base_uri": "https://localhost:8080/"
        },
        "outputId": "20693dcf-628b-4205-be13-f6ee05539ef0"
      },
      "source": [
        "bk_list = []\n",
        "for i in tqdm(range(len(fx_exps))):\n",
        "    bk = np.sqrt(np.square(G6_list[i].std(0)) + (np.square(G4s_list[i].std(1)) * np.square(G2s_list[i].mean(1))).sum(0))\n",
        "    bk_list.append(bk)"
      ],
      "execution_count": null,
      "outputs": [
        {
          "output_type": "stream",
          "text": [
            "100%|██████████| 10/10 [00:00<00:00, 36.14it/s]\n"
          ],
          "name": "stderr"
        }
      ]
    },
    {
      "cell_type": "markdown",
      "metadata": {
        "id": "7kcETc7EUl28"
      },
      "source": [
        "### Compute $G^{(6)}_{GP}$ value\n",
        "\n",
        "The connected part of 6-pt function is normalized by GP 6-pt function."
      ]
    },
    {
      "cell_type": "code",
      "metadata": {
        "colab": {
          "base_uri": "https://localhost:8080/"
        },
        "id": "HzXmhdxOUnNj",
        "outputId": "0e382719-158f-4e23-afaa-a6cab3037a16"
      },
      "source": [
        "comb6_erf = findsubsets(X_erf.reshape(-1), 6)\n",
        "print(len(comb6_erf))"
      ],
      "execution_count": null,
      "outputs": [
        {
          "output_type": "stream",
          "text": [
            "462\n"
          ],
          "name": "stdout"
        }
      ]
    },
    {
      "cell_type": "code",
      "metadata": {
        "id": "y1RBHXgsUq-k"
      },
      "source": [
        "pt6_gp_erf = []\n",
        "for c in comb6_erf:\n",
        "    pt6_gp_erf.append(G_gp6(c, K_erf))\n",
        "\n",
        "pt6_gp_erf = np.array(pt6_gp_erf)"
      ],
      "execution_count": null,
      "outputs": []
    },
    {
      "cell_type": "code",
      "metadata": {
        "colab": {
          "base_uri": "https://localhost:8080/"
        },
        "id": "H8CLhUgZUxnh",
        "outputId": "722e1750-34ad-49eb-b4db-33e5d3f1a979"
      },
      "source": [
        "np.array(connected_list).mean(1)"
      ],
      "execution_count": null,
      "outputs": [
        {
          "output_type": "execute_result",
          "data": {
            "text/plain": [
              "array([[ 0.03637459,  0.03635771,  0.03634073, ...,  0.03588504,\n",
              "         0.03586649,  0.03584828],\n",
              "       [-0.03207308, -0.03209069, -0.03210832, ..., -0.03256183,\n",
              "        -0.03257935, -0.03259664],\n",
              "       [-0.04230802, -0.04233112, -0.04235426, ..., -0.04295757,\n",
              "        -0.04298103, -0.04300435],\n",
              "       ...,\n",
              "       [-0.0429266 , -0.04291748, -0.04290836, ..., -0.04266758,\n",
              "        -0.04265823, -0.04264884],\n",
              "       [-0.03642661, -0.0364251 , -0.03642357, ..., -0.03637573,\n",
              "        -0.03637364, -0.03637148],\n",
              "       [ 0.04094718,  0.04093886,  0.04093056, ...,  0.04071532,\n",
              "         0.04070718,  0.04069895]])"
            ]
          },
          "metadata": {
            "tags": []
          },
          "execution_count": 23
        }
      ]
    },
    {
      "cell_type": "markdown",
      "metadata": {
        "id": "CVHHoksJUnsX"
      },
      "source": [
        "### Plot Connected part\n",
        "\n",
        "The signal is always below the background, and does not show the expected $1/N^2$ dependence."
      ]
    },
    {
      "cell_type": "code",
      "metadata": {
        "id": "S8LDMV1RAKtn",
        "colab": {
          "base_uri": "https://localhost:8080/",
          "height": 307
        },
        "outputId": "433c2559-6022-4fed-d87d-df5f16707a06"
      },
      "source": [
        "# The connected part of the 6-pt functions. Average over 100 experiments and normalized by the GP 6-pt function.\n",
        "mean_df = pd.DataFrame(np.log10(np.abs(np.array(connected_list).mean(1)) / pt6_gp_erf), columns=['signal']*connected_list[0].shape[-1])\n",
        "# The background of the connected part, normalized by the GP 6-pt function.\n",
        "std_df = pd.DataFrame(np.log10(bk_list / pt6_gp_erf), columns=['background']*connected_list[0].shape[-1])  \n",
        "colors = ['r']*connected_list[0].shape[-1] + ['b']*connected_list[0].shape[-1]\n",
        "concated_df = pd.concat([std_df, mean_df], axis=1)\n",
        "concated_df.index = [np.log10(N) for N in Ns]\n",
        "ax = concated_df.plot(color=colors, legend=False)\n",
        "\n",
        "lines, labels = ax.get_legend_handles_labels()\n",
        "ax.legend([lines[0], lines[-1]], [labels[0], labels[-1]], loc='best')\n",
        "plt.xlabel(\"$log_{10}N$\")\n",
        "plt.ylabel(\"$log_{10}m_6$\")\n",
        "plt.title(\"erf-net 6-pt Connected, $\\sigma_b=1$\")\n",
        "plt.show() "
      ],
      "execution_count": null,
      "outputs": [
        {
          "output_type": "display_data",
          "data": {
            "image/png": "[encoded data removed]",
            "text/plain": [
              "<Figure size 432x288 with 1 Axes>"
            ]
          },
          "metadata": {
            "tags": [],
            "needs_background": "light"
          }
        }
      ]
    },
    {
      "cell_type": "code",
      "metadata": {
        "id": "XA8easXyEbPG"
      },
      "source": [
        ""
      ],
      "execution_count": null,
      "outputs": []
    }
  ]
}
