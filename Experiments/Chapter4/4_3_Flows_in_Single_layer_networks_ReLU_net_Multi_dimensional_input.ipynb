{
  "nbformat": 4,
  "nbformat_minor": 0,
  "metadata": {
    "colab": {
      "name": "4.3 Flows in Single-layer networks ReLU-net Multi-dimensional input.ipynb",
      "provenance": [],
      "collapsed_sections": [],
      "toc_visible": true,
      "authorship_tag": "ABX9TyOq0jAyFdhBVHx2sBsh9Icn",
      "include_colab_link": true
    },
    "kernelspec": {
      "display_name": "Python 3",
      "name": "python3"
    },
    "language_info": {
      "name": "python"
    }
  },
  "cells": [
    {
      "cell_type": "markdown",
      "metadata": {
        "id": "view-in-github",
        "colab_type": "text"
      },
      "source": [
        "<a href=\"https://colab.research.google.com/github/Xuan-He-97/Neural-networks-and-quantum-field-theory/blob/main/Experiments/Chapter4/4_3_Flows_in_Single_layer_networks_ReLU_net_Multi_dimensional_input.ipynb\" target=\"_parent\"><img src=\"https://colab.research.google.com/assets/colab-badge.svg\" alt=\"Open In Colab\"/></a>"
      ]
    },
    {
      "cell_type": "code",
      "metadata": {
        "id": "qIDU4CwtC35a"
      },
      "source": [
        "import itertools\n",
        "import pickle\n",
        "import pathlib\n",
        "import os\n",
        "import numpy as np\n",
        "import pandas as pd\n",
        "import scipy\n",
        "import matplotlib.pyplot as plt\n",
        "from scipy.special import erf\n",
        "import matplotlib.pyplot as plt\n",
        "import seaborn as sns\n",
        "sns.set()\n",
        "\n",
        "from scipy.integrate import quad, dblquad, tplquad\n",
        "from tqdm import tqdm"
      ],
      "execution_count": null,
      "outputs": []
    },
    {
      "cell_type": "markdown",
      "metadata": {
        "id": "n8VMM6J712jq"
      },
      "source": [
        "## Introduction\n",
        "\n",
        "This work depicts the relationship between the coupling strength $\\lambda_m$ and the integral bound $\\Lambda$. Scaling dimensions of $\\lambda_m$ could be obtained from the dimensionlessness of the term $\\Delta S = \\sum \\int d^{d_{i n}} x \\mathcal{O}_{k} , $ where operator $\\mathcal{O}_{k}:=g_{k} f(x)^{k}$. \n",
        "\n",
        "$[\\Delta S]=0$ requires $d_{\\text {in }}+k[f]+\\left[g_{k}\\right]=0 . $\n",
        "\n",
        "For $[f]$, we know that, \n",
        "\n",
        "$$\n",
        "P[f]=e^{-S_{\\mathrm{GP}}[f]}=\\exp \\left[-\\frac{1}{2} \\int d^{d_{\\mathrm{in}}} x d^{d_{\\mathrm{im}}} y f(x) \\Xi(x, y) f(y)\\right]\n",
        "$$\n",
        "\n",
        "should have the exponential term dimensionless too. Then, $[S]=2 d_{\\text {in }}+2[f]+[\\Xi]=0$. \n",
        "\n",
        "$\\int d^{d_{\\text {in }}} x^{\\prime} K\\left(x, x^{\\prime}\\right) \\Xi\\left(x^{\\prime}, x^{\\prime \\prime}\\right)=\\delta^{\\left(d_{\\text {in }}\\right)}\\left(x-x^{\\prime \\prime}\\right) , $ $\\Xi$ should satisfy $d_{\\text {in }}+[\\Xi]+[K]=-d_{\\text {in }}$.\n",
        "\n",
        "Thus the scaling dimension of the correction terms,\n",
        "$$\n",
        "\\left[g_{k}\\right]=-d_{\\text {in }}-\\frac{k[K]}{2}.\n",
        "$$\n",
        "\n",
        "Consider the effective function $S = S_{GP} + \\int d^{d_{in}}x \\left[ \\lambda f(x)^4 + \\kappa f(x)^6\\right] . $ The couplings of 4-pt and 6-pt correction have input-space dimensions: \n",
        "\n",
        "$$\n",
        "[\\lambda] = -d_{in} - 2[K], \\quad [\\kappa] = -d_{in} - 3[K]\n",
        "$$\n",
        "\n",
        "$[\\lambda]$ depends on the input dimension. This is analogous to a\n",
        "well-known effect from QFT, where the dimension of spacetime affects the RG flow.\n",
        "\n",
        "In previous experiment, we compute the relationship between couplings and boundary terms on one dimensional input. The relationship on 2d and 3d input are to be explored in this notebook."
      ]
    },
    {
      "cell_type": "markdown",
      "metadata": {
        "id": "iTMkkumzAYSB"
      },
      "source": [
        "## RG Equation\n",
        "\n",
        "The RG equations can be obtained by taking derivatives of above 4 -pt and 6 -pt function with respect to log of the cutoff scale $\\Lambda$,\n",
        "$$\n",
        "\\begin{aligned}\n",
        "\\frac{\\partial G^{(4)}\\left(x_{1}, x_{2}, x_{3}, x_{4}\\right)}{\\partial \\log \\Lambda}=0 &=\\frac{\\partial \\lambda}{\\partial \\log \\Lambda} \\int_{-\\Lambda}^{\\Lambda} d^{d_{\\text {in }}} x \\varrho_{4, \\lambda}+\\lambda \\frac{\\partial\\left(\\int_{-\\Lambda}^{\\Lambda} d^{d_{\\text {in }}} x \\varrho_{4, \\lambda}\\right)}{\\partial \\log \\Lambda} \\\\\n",
        "+& \\frac{\\partial \\kappa}{\\partial \\log \\Lambda} \\int_{-\\Lambda}^{\\Lambda} d^{d_{\\text {in }}} x \\varrho_{4, \\kappa}+\\kappa \\frac{\\partial\\left(\\int_{-\\Lambda}^{\\Lambda} d^{d_{\\text {in }}} x \\varrho_{4, \\kappa}\\right)}{\\partial \\log \\Lambda} \\\\\n",
        "\\frac{\\partial G^{(6)}\\left(x_{1}, x_{2}, x_{3}, x_{4}, x_{5}, x_{6}\\right)}{\\partial \\log \\Lambda}=& 0=\\frac{\\partial \\lambda}{\\partial \\log \\Lambda} \\int_{-\\Lambda}^{\\Lambda} d^{d_{\\text {in }}} x \\varrho_{6, \\lambda}+\\lambda \\frac{\\partial\\left(\\int_{-\\Lambda}^{\\Lambda} d^{d_{\\text {in }}} x \\varrho_{6, \\lambda}\\right)}{\\partial \\log \\Lambda} \\\\\n",
        "&+\\frac{\\partial \\kappa}{\\partial \\log \\Lambda} \\int_{-\\Lambda}^{\\Lambda} d^{d_{\\text {in }}} x \\varrho_{6, \\kappa}+\\kappa \\frac{\\partial\\left(\\int_{-\\Lambda}^{\\Lambda} d^{d_{\\text {in }}} x \\varrho_{6, \\kappa}\\right)}{\\partial \\log \\Lambda}\n",
        "\\end{aligned}\n",
        "$$\n",
        "In the limit of large $N$, and potentially of large $\\Lambda$, we may ignore $\\kappa$ and equations $(124)$ and $(125)$ can be simplified to\n",
        "$$\n",
        "\\begin{gathered}\n",
        "\\frac{\\partial \\lambda}{\\partial \\log \\Lambda} \\int_{-\\Lambda}^{\\Lambda} d^{d_{\\mathrm{in}}} x\\left[\\frac{\\int_{-\\Lambda}^{\\Lambda} d^{d_{\\text {in }}} x \\varrho_{6, \\lambda}}{\\int_{-\\Lambda}^{\\Lambda} d^{d_{\\text {in }} x \\varrho_{6, \\kappa}}}-\\frac{\\int_{-\\Lambda}^{\\Lambda} d^{d_{\\text {in }}} x \\varrho_{4, \\lambda}}{\\int_{-\\Lambda}^{\\Lambda} d^{d_{\\text {in }}} x \\varrho_{4, \\kappa}}\\right]+\\lambda\\left[\\frac{1}{\\int_{-\\Lambda}^{\\Lambda} d^{d_{\\text {in }}} x \\varrho_{6, \\kappa}} \\frac{\\partial\\left(\\int_{-\\Lambda}^{\\Lambda} d^{d_{\\text {in }}} x \\varrho_{6, \\lambda}\\right)}{\\partial \\log \\Lambda}\\right. \\\\\n",
        "\\left.-\\frac{1}{\\int_{-\\Lambda}^{\\Lambda} d^{d_{\\text {in }} x} \\varrho_{4, \\kappa}} \\frac{\\partial\\left(\\int_{-\\Lambda}^{\\Lambda} d^{d_{\\text {in }}} x \\varrho_{4, \\lambda}\\right)}{\\partial \\log \\Lambda}\\right]=0\n",
        "\\end{gathered}\n",
        "$$\n",
        "Solving the above gives us the $\\mathrm{RG}$ equation of $\\lambda, \\beta(\\lambda)$ in our examples.\n",
        "\n",
        "<br>\n",
        "\n",
        "We verify above RG equation against the log-log variations of experimental value(s) of $\\lambda_{m}$ at different cutoff scales $\\Lambda$.\n",
        "\n",
        "To obtain the rank- 4 tensor $\\lambda_{m}$ at different choice of cutoff scales we use \n",
        "\n",
        "$\\lambda_{m}\\left(x_{1}, x_{2}, x_{3}, x_{4}\\right):=\\frac{K_{12} K_{34}+K_{13} K_{24}+K_{14} K_{23}-G^{(4)}\\left(x_{1}, x_{2}, x_{3}, x_{4}\\right)}{24 \\int d^{d_{\\text {in }}} y \\Delta_{1234 y}}. $ \n",
        "\n",
        "Where $\\Delta_{1234 y} = K_{W, 1y}K_{W, 2y}K_{W, 3y}K_{W, 4y}$\n",
        "\n",
        "All independent tensor elements of $\\lambda_{m}$ are plotted below against respective $\\Lambda$, in a log-log format, at different values of $d_{\\text {in }}$."
      ]
    },
    {
      "cell_type": "markdown",
      "metadata": {
        "id": "aV7EDThOGxdZ"
      },
      "source": [
        "## Network Architectures\n",
        "\n",
        "Define network architectures. "
      ]
    },
    {
      "cell_type": "markdown",
      "metadata": {
        "id": "Lzei3O_tui2L"
      },
      "source": [
        "### Network structure\n",
        "\n",
        "We test on single layer neural networks. The input dimensions are chosen to be 2 or 3. The output one dimension."
      ]
    },
    {
      "cell_type": "markdown",
      "metadata": {
        "id": "3n1BZUI_ATgu"
      },
      "source": [
        "![微信图片_20210618143713.png](data:image/png;base64,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)"
      ]
    },
    {
      "cell_type": "markdown",
      "metadata": {
        "id": "wVNXy6iEGQP9"
      },
      "source": [
        "### ReLU-net layer\n",
        "\n",
        "$$\n",
        "\\sigma(z)=\\left\\{\\begin{array}{ll}\n",
        "0 & z<0 \\\\\n",
        "z & z \\geqslant 0\n",
        "\\end{array} .\\right.\n",
        "$$"
      ]
    },
    {
      "cell_type": "code",
      "metadata": {
        "id": "ePl21XRoDMUY"
      },
      "source": [
        "def ReLU(inputs, input_dim, units, sigmab2=0.0, sigmaw2=1.0):\n",
        "    w = np.random.normal(scale=sigmaw2, size=(input_dim, units))\n",
        "    b = np.random.normal(scale=sigmab2, size=(units,))\n",
        "    preact = np.matmul(inputs, w) + b\n",
        "    postact = np.maximum(preact, 0)\n",
        "    return postact"
      ],
      "execution_count": null,
      "outputs": []
    },
    {
      "cell_type": "markdown",
      "metadata": {
        "id": "LKgj9x5dGYbC"
      },
      "source": [
        "### ReLU-net kernel\n",
        "\n",
        "The associated GP kernel is\n",
        "$$\n",
        "\\begin{aligned}\n",
        "K_{\\mathrm{ReLU}}\\left(x, x^{\\prime}\\right) &=\\sigma_{b}^{2}+\\sigma_{W}^{2} \\frac{1}{2 \\pi} \\sqrt{\\left(\\sigma_{b}^{2}+\\frac{\\sigma_{W}^{2}}{d_{\\mathrm{in}}} x \\cdot x\\right)\\left(\\sigma_{b}^{2}+\\frac{\\sigma_{W}^{2}}{d_{\\text {in }}} x^{\\prime} \\cdot x^{\\prime}\\right)(\\sin \\theta+(\\pi-\\theta) \\cos \\theta)}, \\\\\n",
        "\\theta &=\\arccos \\left[\\frac{\\sigma_{b}^{2}+\\frac{\\sigma_{w}^{2}}{d_{\\mathrm{in}}} x \\cdot x^{\\prime}}{\\sqrt{\\left(\\sigma_{b}^{2}+\\frac{\\sigma_{W}^{2}}{d_{\\text {in }}} x \\cdot x\\right)\\left(\\sigma_{b}^{2}+\\frac{\\sigma_{\\mathrm{w}}^{2}}{d_{\\text {in }}} x^{\\prime} \\cdot x^{\\prime}\\right)}}\\right]\n",
        "\\end{aligned}\n",
        "$$\n",
        "\n",
        "Since $\\sigma_{b}=0, $ and $ \\sigma_{w}=1$, \n",
        "\n",
        "$$\n",
        "K_{\\mathrm{ReLU}}\\left(x, x^{\\prime}\\right)=\\frac{1}{2d_{\\text {in }}}|x|\\left|x^{\\prime}\\right|\n",
        "$$\n",
        "\n",
        "The scaling dimension of ReLU kernel is given by $\\left[K\\left(x, x^{\\prime}\\right)\\right]=2$ and $\\left[K_{w}\\left(x, x^{\\prime}\\right)\\right]=2$, when $x>\\frac{\\sigma_{b} \\sqrt{d_{\\text {in }}}}{\\sigma_{W}}$ and $x^{\\prime}$ is one of the inputs in our experiments. Given previous analysis, the 4 -pt and 6 -pt couplings scale as $[\\lambda]=-d_{\\text {in }}-4$ and $[\\kappa]=-d_{\\text {in }}-6$ respectively. \n",
        "\n",
        "The RG equation of the ReLU-net should have the form,\n",
        "$$\n",
        "\\frac{\\partial \\lambda}{\\partial \\log \\Lambda} \\Lambda^{d_{\\text {in }}+4}+\\left(d_{\\text {in }}+4\\right) \\lambda \\Lambda^{d_{\\text {in }}+4}=0\n",
        "$$\n",
        "which yields\n",
        "$$\n",
        "\\beta(\\lambda):=\\frac{\\partial \\lambda}{\\partial \\log (\\Lambda)}=-\\left(d_{\\mathrm{in}}+4\\right) \\lambda\n",
        "$$\n",
        "After integration we get\n",
        "$$\n",
        "\\log \\lambda=-\\left(d_{\\text {in }}+4\\right) \\log \\Lambda+p_{1}\n",
        "$$\n",
        "where $p_{1}$ is the constant of integration."
      ]
    },
    {
      "cell_type": "code",
      "metadata": {
        "id": "jaEX4xJAEuZ9"
      },
      "source": [
        "def K_ReLU(x, y, sigmab2=0.0, sigmaw2=1.0, d_in=1.0):\n",
        "    xy = np.dot(x, y)\n",
        "    xx = np.dot(x, x)\n",
        "    yy = np.dot(y, y)\n",
        "    corr = np.sqrt((sigmab2 + sigmaw2*xx/d_in) * (sigmab2 + sigmaw2*yy/d_in))\n",
        "    costheta = (sigmab2 + sigmaw2*xy/d_in) / corr\n",
        "    theta = np.arccos(costheta)\n",
        "    return sigmab2 + sigmaw2 * (1.0 / (2.0*np.pi)) * corr * (np.sin(theta) + (np.pi - theta) * costheta)"
      ],
      "execution_count": null,
      "outputs": []
    },
    {
      "cell_type": "markdown",
      "metadata": {
        "id": "KapKapT7GcYb"
      },
      "source": [
        "### Dense layer\n",
        "\n",
        "$f_{\\theta, N}(x) = z_1^k = \\sum_{j=1}^N W_1^{jk}x_1^j + b_1^k$"
      ]
    },
    {
      "cell_type": "code",
      "metadata": {
        "id": "fyUGhyQBC98Y"
      },
      "source": [
        "def Dense(inputs, input_dim, units, sigmab2=1.0, sigmaw2=1.0):\n",
        "    w = np.random.normal(scale=np.sqrt(sigmaw2/N), size=(input_dim, units))\n",
        "    b = np.random.normal(scale=sigmab2, size=(units,))\n",
        "    return np.matmul(inputs, w) + b"
      ],
      "execution_count": null,
      "outputs": []
    },
    {
      "cell_type": "markdown",
      "metadata": {
        "id": "IIdPUbci9lu5"
      },
      "source": [
        "## Compute GP Correlation"
      ]
    },
    {
      "cell_type": "markdown",
      "metadata": {
        "id": "UtbSMx9sGfSX"
      },
      "source": [
        "### Wick contraction\n",
        "\n",
        "The rule of Wick contraction is simple: sum over all ways of connecting the points $\\{x_1, ..., x_n\\}$ in pairs, and in each term draw a line between the points in the pair $(a_i, b_i)$.\n",
        "\n",
        "$G_{GP}^{(n)}(x_1, ..., x_n) = \\sum_{p\\in \\textrm{Wick}(x_1, ..., x_n)} K(a_1, b_1)...K(a_{n/2}, b_{n/2})$"
      ]
    },
    {
      "cell_type": "code",
      "metadata": {
        "id": "bVwC48DsIh3b"
      },
      "source": [
        "def G_gp2(X, K, d_in=1.0):\n",
        "    x1, x2 = X\n",
        "    return K(x1, x2, d_in=d_in)"
      ],
      "execution_count": null,
      "outputs": []
    },
    {
      "cell_type": "code",
      "metadata": {
        "id": "Gboks3PmE8EN"
      },
      "source": [
        "def G_gp4(X, K, d_in=1.0):\n",
        "    x1, x2, x3, x4 = X\n",
        "    return K(x1, x2, d_in=d_in) * K(x3, x4, d_in=d_in) + K(x1, x3, d_in=d_in) * K(x2, x4, d_in=d_in) + K(x1, x4, d_in=d_in) * K(x2, x3, d_in=d_in)"
      ],
      "execution_count": null,
      "outputs": []
    },
    {
      "cell_type": "code",
      "metadata": {
        "id": "r9y8iTYmIqk8"
      },
      "source": [
        "def G_gp6(X, K, d_in=1.0):\n",
        "    wick_pairs = [[1, 2, 3, 4, 5, 6], [1, 2, 3, 5, 4, 6], [1, 2, 3, 6, 4, 5], [1, 3, 2, 4, 5, 6], [1, 3, 2, 5, 4, 6],\n",
        "                  [1, 3, 2, 6, 4, 5], [1, 4, 2, 3, 5, 6], [1, 4, 2, 5, 3, 6], [1, 4, 2, 6, 3, 5], \n",
        "                  [1, 5, 2, 3, 4, 6], [1, 5, 2, 4, 3, 6],\n",
        "                  [1, 5, 2, 6, 3, 4], [1, 6, 2, 3, 4, 5], [1, 6, 2, 4, 3, 5], [1, 6, 2, 5, 3, 4]]\n",
        "    res = 0\n",
        "    for x1, x2, x3, x4, x5, x6 in wick_pairs:\n",
        "        res += K(X[x1-1], X[x2-1], d_in=d_in) * K(X[x3-1], X[x4-1], d_in=d_in) * K(X[x5-1], X[x6-1], d_in=d_in)\n",
        "    return res"
      ],
      "execution_count": null,
      "outputs": []
    },
    {
      "cell_type": "markdown",
      "metadata": {
        "id": "qyMU2RtKGpnV"
      },
      "source": [
        "## Input of the network\n",
        "\n",
        "Inputs of ReLU-net are all positive so that the kernel is always nonzero."
      ]
    },
    {
      "cell_type": "code",
      "metadata": {
        "id": "3hyGmykZFAiF"
      },
      "source": [
        "X_ReLU_2d = np.array([[0.5, 0.5], [0.5, 1.0], [1.0, 0.5], [1.0, 1.0]])\n",
        "X_ReLU_3d = np.array([[0.2, 0.2, 0.2], [1.0, 1.0, 0.2], [0.2, 1.0, 1.0], [1.0, 0.2, 1.0]])"
      ],
      "execution_count": null,
      "outputs": []
    },
    {
      "cell_type": "markdown",
      "metadata": {
        "id": "1cOwsqrlHaH6"
      },
      "source": [
        "## Mount to google drive\n",
        "\n",
        "Variables will be saved to google drive."
      ]
    },
    {
      "cell_type": "code",
      "metadata": {
        "id": "t6l0iHA6v1Yq",
        "colab": {
          "base_uri": "https://localhost:8080/"
        },
        "outputId": "e50b14e7-5b8b-4496-b587-23a2f9e56858"
      },
      "source": [
        "from google.colab import drive\n",
        "# log in to the google drive account\n",
        "drive.mount('/gdrive')"
      ],
      "execution_count": null,
      "outputs": [
        {
          "output_type": "stream",
          "text": [
            "Mounted at /gdrive\n"
          ],
          "name": "stdout"
        }
      ]
    },
    {
      "cell_type": "markdown",
      "metadata": {
        "id": "tmN8jnttHm3I"
      },
      "source": [
        "## Find all distinct combination of $G^{(n)}$\n",
        "\n",
        "Permutations in correlation function $G^{(n)}$ yield same results. Thus we only consider those combinations of distinct $G^{(n)}$ values."
      ]
    },
    {
      "cell_type": "code",
      "metadata": {
        "id": "udLJDTq0FQaU"
      },
      "source": [
        "def findsubsets(X, n):\n",
        "    res = []\n",
        "    for i1 in range(n+1):\n",
        "        for i2 in range(n+1-i1):\n",
        "            for i3 in range(n+1-i1-i2):\n",
        "                i4 = n-i1-i2-i3\n",
        "                res.append([X[0]]*i1 + [X[1]]*i2 + [X[2]]*i3 + [X[3]]*i4)\n",
        "    return res"
      ],
      "execution_count": null,
      "outputs": []
    },
    {
      "cell_type": "markdown",
      "metadata": {
        "id": "UiATd2D9JG2f"
      },
      "source": [
        "## n-pt function\n",
        "\n",
        "Function to compute n-pt function of experimental results.\n",
        "\n",
        "$$G^{(n)}(x_1, ..., x_n) = \\mathcal{E}[f_{\\alpha}(x_1)...f_{\\alpha}(x_n)]$$\n",
        "\n",
        "Here we have discrete weights:\n",
        "\n",
        "$$G^{(n)}\\left(x_{1}, \\ldots, x_{n}\\right)=\\frac{1}{n_{\\text {nets }}} \\sum_{\\alpha \\in \\text { nets }}^{n_{\\text {nets }}} f_{\\alpha}\\left(x_{1}\\right), \\ldots, f_{\\alpha}\\left(x_{n}\\right)$$"
      ]
    },
    {
      "cell_type": "code",
      "metadata": {
        "id": "8jBZDq3AUbwc"
      },
      "source": [
        "def npt(Y, comb):\n",
        "    corr_function = []\n",
        "    for c in comb:\n",
        "        corr_function.append(Y[:, :, c].prod(2).mean(1))\n",
        "    \n",
        "    return np.array(corr_function).T # shape = len(comb)"
      ],
      "execution_count": null,
      "outputs": []
    },
    {
      "cell_type": "markdown",
      "metadata": {
        "id": "-Wh30WRv32QD"
      },
      "source": [
        "## ReLU-net 2D"
      ]
    },
    {
      "cell_type": "markdown",
      "metadata": {
        "id": "xaYV13jtKQ0r"
      },
      "source": [
        "### Find all disinct combination of $x_i$"
      ]
    },
    {
      "cell_type": "code",
      "metadata": {
        "colab": {
          "base_uri": "https://localhost:8080/"
        },
        "id": "ggv9pqUnzs9e",
        "outputId": "fa7471f9-e9bc-4b13-8a8a-d6bcd1466239"
      },
      "source": [
        "comb2 = findsubsets(range(len(X_ReLU_2d)), 2)\n",
        "print(len(comb2))\n",
        "comb4 = findsubsets(range(len(X_ReLU_2d)), 4)\n",
        "print(len(comb4))\n",
        "comb6 = findsubsets(range(len(X_ReLU_2d)), 6)\n",
        "print(len(comb6))"
      ],
      "execution_count": null,
      "outputs": [
        {
          "output_type": "stream",
          "text": [
            "10\n",
            "35\n",
            "84\n"
          ],
          "name": "stdout"
        }
      ]
    },
    {
      "cell_type": "markdown",
      "metadata": {
        "id": "-G95XBzwKNgH"
      },
      "source": [
        "### Calculate gaussian process 2, 4, 6-pt functions"
      ]
    },
    {
      "cell_type": "code",
      "metadata": {
        "id": "1PfRKbyN3-sZ"
      },
      "source": [
        "G_gp2_ReLU = []\n",
        "for c in comb2:\n",
        "    G_gp2_ReLU.append(G_gp2(X_ReLU_2d[c], K_ReLU, d_in=2.0))\n",
        "\n",
        "G_gp2_ReLU = dict(zip([tuple(c) for c in comb2], G_gp2_ReLU))"
      ],
      "execution_count": null,
      "outputs": []
    },
    {
      "cell_type": "code",
      "metadata": {
        "id": "Tf9Ssp1F5H5G"
      },
      "source": [
        "G_gp4_ReLU = []\n",
        "for c in comb4:\n",
        "    G_gp4_ReLU.append(G_gp4(X_ReLU_2d[c], K_ReLU, d_in=2.0))\n",
        "\n",
        "G_gp4_ReLU = dict(zip([tuple(c) for c in comb4], G_gp4_ReLU))"
      ],
      "execution_count": null,
      "outputs": []
    },
    {
      "cell_type": "code",
      "metadata": {
        "id": "LDUrzL2-5ITj"
      },
      "source": [
        "G_gp6_ReLU = []\n",
        "for c in comb6:\n",
        "    G_gp6_ReLU.append(G_gp6(X_ReLU_2d[c], K_ReLU, d_in=2.0))\n",
        "\n",
        "G_gp6_ReLU = dict(zip([tuple(c) for c in comb6], G_gp6_ReLU))"
      ],
      "execution_count": null,
      "outputs": []
    },
    {
      "cell_type": "markdown",
      "metadata": {
        "id": "VGIOdXMFKXxc"
      },
      "source": [
        "### Calculate the network output"
      ]
    },
    {
      "cell_type": "code",
      "metadata": {
        "colab": {
          "base_uri": "https://localhost:8080/"
        },
        "id": "Q7J8olmNUCdX",
        "outputId": "c5ad802d-63e6-4660-f16a-8eb4c251ac4b"
      },
      "source": [
        "%%time\n",
        "fx_exps = []\n",
        "\n",
        "N = 20\n",
        "\n",
        "print('Proceeding N =', N, '...')\n",
        "fx_exp = []\n",
        "for j in range(100):\n",
        "    Y = []\n",
        "    for i in range(100000):\n",
        "        m = ReLU(X_ReLU_2d, 2, N)\n",
        "        y = Dense(m, N, 1, sigmab2=0.0)\n",
        "        Y.append(y)\n",
        "    Y = np.array(Y).reshape(100000, 4)\n",
        "    fx_exp.append(Y)\n",
        "\n",
        "fx_exp = np.array(fx_exp)\n",
        "with open('/gdrive/MyDrive/RG/ReLU/fx_exp_2d.pickle', 'wb') as handle:\n",
        "    pickle.dump(fx_exp, handle)\n",
        "fx_exps.append(fx_exp)"
      ],
      "execution_count": null,
      "outputs": [
        {
          "output_type": "stream",
          "text": [
            "Proceeding N = 20 ...\n",
            "CPU times: user 5min 16s, sys: 4.59 s, total: 5min 20s\n",
            "Wall time: 5min 18s\n"
          ],
          "name": "stdout"
        }
      ]
    },
    {
      "cell_type": "markdown",
      "metadata": {
        "id": "WFqwyT_Qsr2g"
      },
      "source": [
        "### $\\Delta_{1234y}$"
      ]
    },
    {
      "cell_type": "code",
      "metadata": {
        "id": "MKaygxUSsrU3"
      },
      "source": [
        "def integrand4(t1, t2, x1, x2, x3, x4, K, d_in=1.0):\n",
        "    t = np.array([t1, t2])\n",
        "    return np.maximum(K(x1, t, d_in=d_in) * K(x2, t, d_in=d_in) * K(x3, t, d_in=d_in) * K(x4, t, d_in=d_in), 1e-11)"
      ],
      "execution_count": null,
      "outputs": []
    },
    {
      "cell_type": "markdown",
      "metadata": {
        "id": "CIvdz8k3tHYG"
      },
      "source": [
        "### $\\int d^{d_{in}}y \\; \\Delta_{1234y}$"
      ]
    },
    {
      "cell_type": "code",
      "metadata": {
        "id": "Xz3iSPFdtHEm"
      },
      "source": [
        "def compute_integral4(X, comb, K, Lambda, integrand=integrand4, d_in=1.0):\n",
        "    res = []\n",
        "    for c in comb:\n",
        "        x1, x2, x3, x4 = X[c]\n",
        "        res.append(dblquad(integrand, -Lambda, Lambda, -Lambda, Lambda, args=(x1, x2, x3, x4, K, d_in))[0])\n",
        "    return dict(zip([tuple(c) for c in comb], res))"
      ],
      "execution_count": null,
      "outputs": []
    },
    {
      "cell_type": "markdown",
      "metadata": {
        "id": "Dz4NazpRvspm"
      },
      "source": [
        "### Load experimental $G^{(4)}$ result and compute $\\lambda_m$"
      ]
    },
    {
      "cell_type": "code",
      "metadata": {
        "id": "wl4V4IBYvwPF"
      },
      "source": [
        "lambdam4_ReLU = []\n",
        "G4_ReLU = []\n",
        "file = pathlib.Path('/gdrive/MyDrive/RG/ReLU/fx_exp_2d.pickle')\n",
        "Lambda_list = [7, 10, 15, 20, 30, 40, 50, 70, 100, 200, 500, 1000, 2000, 5000, 7000, 10000, 20000, 40000, 60000, 80000, 100000]\n",
        "\n",
        "with open(file, 'rb') as handle:\n",
        "    fx_exp = pickle.load(handle).reshape(10000000, 4)\n",
        "\n",
        "for c in comb4: \n",
        "    G4 = fx_exp[:, c].prod(1).mean()\n",
        "    G4_ReLU.append(G4)"
      ],
      "execution_count": null,
      "outputs": []
    },
    {
      "cell_type": "code",
      "metadata": {
        "id": "VQoWYS3yyfuG"
      },
      "source": [
        "def Kw_ReLU(x, y, sigmab2=0.0, sigmaw2=1.0, d_in=1.0):\n",
        "    xy = np.dot(x, y)\n",
        "    xx = np.dot(x, x)\n",
        "    yy = np.dot(y, y)\n",
        "    corr = np.sqrt((sigmab2 + 1e-11 + sigmaw2*xx/d_in) * (sigmab2 + 1e-11 + sigmaw2*yy/d_in))\n",
        "\n",
        "    costheta = (sigmab2 + sigmaw2*xy/d_in) / corr\n",
        "    theta = np.arccos(costheta)\n",
        "    return sigmaw2 * (1.0 / (2.0*np.pi)) * corr * (np.sin(theta) + (np.pi - theta) * costheta)"
      ],
      "execution_count": null,
      "outputs": []
    },
    {
      "cell_type": "code",
      "metadata": {
        "colab": {
          "base_uri": "https://localhost:8080/"
        },
        "id": "Ym1p6-zlw1uq",
        "outputId": "1b515b96-2d29-428f-a22c-cb261ebcef3a"
      },
      "source": [
        "for Lambda in tqdm(Lambda_list):\n",
        "    \n",
        "    integral4_ReLU = compute_integral4(X_ReLU_2d, comb4, Kw_ReLU, Lambda, d_in=2.0)\n",
        "    for i, c in enumerate(comb4): \n",
        "        A = G_gp4_ReLU[tuple(c)]\n",
        "        B = 24 * integral4_ReLU[tuple(c)]\n",
        "        G4 = G4_ReLU[i]\n",
        "        lambdam4_ReLU.append((A - G4) / B)"
      ],
      "execution_count": null,
      "outputs": [
        {
          "output_type": "stream",
          "text": [
            "\n",
            "  0%|          | 0/21 [00:00<?, ?it/s]\u001b[A\n",
            "  5%|▍         | 1/21 [00:09<03:00,  9.05s/it]\u001b[A\n",
            " 10%|▉         | 2/21 [00:18<02:52,  9.06s/it]\u001b[A\n",
            " 14%|█▍        | 3/21 [00:27<02:43,  9.09s/it]\u001b[A\n",
            " 19%|█▉        | 4/21 [00:36<02:34,  9.06s/it]\u001b[A\n",
            " 24%|██▍       | 5/21 [00:45<02:24,  9.05s/it]\u001b[A\n",
            " 29%|██▊       | 6/21 [00:54<02:15,  9.07s/it]\u001b[A\n",
            " 33%|███▎      | 7/21 [01:03<02:06,  9.07s/it]\u001b[A\n",
            " 38%|███▊      | 8/21 [01:12<01:58,  9.10s/it]\u001b[A\n",
            " 43%|████▎     | 9/21 [01:21<01:48,  9.08s/it]\u001b[A\n",
            " 48%|████▊     | 10/21 [01:30<01:39,  9.06s/it]\u001b[A\n",
            " 52%|█████▏    | 11/21 [01:39<01:30,  9.07s/it]\u001b[A\n",
            " 57%|█████▋    | 12/21 [01:48<01:21,  9.04s/it]\u001b[A\n",
            " 62%|██████▏   | 13/21 [01:57<01:12,  9.05s/it]\u001b[A\n",
            " 67%|██████▋   | 14/21 [02:06<01:03,  9.07s/it]\u001b[A\n",
            " 71%|███████▏  | 15/21 [02:16<00:54,  9.08s/it]\u001b[A\n",
            " 76%|███████▌  | 16/21 [02:25<00:45,  9.09s/it]\u001b[A\n",
            " 81%|████████  | 17/21 [02:34<00:36,  9.09s/it]\u001b[A\n",
            " 86%|████████▌ | 18/21 [02:43<00:27,  9.07s/it]\u001b[A\n",
            " 90%|█████████ | 19/21 [02:52<00:18,  9.10s/it]\u001b[A\n",
            " 95%|█████████▌| 20/21 [03:01<00:09,  9.09s/it]\u001b[A\n",
            "100%|██████████| 21/21 [03:10<00:00,  9.08s/it]\n"
          ],
          "name": "stderr"
        }
      ]
    },
    {
      "cell_type": "markdown",
      "metadata": {
        "id": "MDxFg566Ytdo"
      },
      "source": [
        "### Plot Coupling Strength"
      ]
    },
    {
      "cell_type": "code",
      "metadata": {
        "id": "6kVp5rN157Uu"
      },
      "source": [
        "lambdam4_ReLU_df = pd.DataFrame(np.log10(np.abs(lambdam4_ReLU).reshape(21, -1)))\n",
        "lambdam4_ReLU_df.index = np.log10(Lambda_list)"
      ],
      "execution_count": null,
      "outputs": []
    },
    {
      "cell_type": "code",
      "metadata": {
        "colab": {
          "base_uri": "https://localhost:8080/",
          "height": 307
        },
        "id": "pWEvxamW5-bq",
        "outputId": "7669d00f-4cf8-4874-f6a2-ac28dc7813ca"
      },
      "source": [
        "# Fit the line\n",
        "x = np.log10(Lambda_list)\n",
        "y = lambdam4_ReLU_df.mean(1)\n",
        "z = np.polyfit(x, y, 1)\n",
        "p = np.poly1d(z)\n",
        "xp = x\n",
        "slope, intercept, r_value, p_value, std_err = scipy.stats.linregress(x, y)\n",
        "ax = lambdam4_ReLU_df.plot(legend=False, style='.', c='b')\n",
        "line = ax.plot(xp, p(xp), label='slope = ' + str(round(z[0], 3)) + ', $R^2 = $' + str(round(r_value**2, 3)), c='b')\n",
        "lines, labels = ax.get_legend_handles_labels()\n",
        "ax.legend([lines[-1]], [labels[-1]], loc='best')\n",
        "plt.xlabel(\"$log_{10}\\Lambda$\")\n",
        "plt.ylabel(\"$log_{10}\\lambda_m$\")\n",
        "plt.title(\"ReLU-net $\\lambda_m$, $N = 20, d_{in} = 2$\")\n",
        "plt.show()"
      ],
      "execution_count": null,
      "outputs": [
        {
          "output_type": "display_data",
          "data": {
            "image/png": "[encoded data removed]",
            "text/plain": [
              "<Figure size 432x288 with 1 Axes>"
            ]
          },
          "metadata": {
            "tags": []
          }
        }
      ]
    },
    {
      "cell_type": "markdown",
      "metadata": {
        "id": "SYIKuErgp5eY"
      },
      "source": [
        "## ReLU-net 3D Input"
      ]
    },
    {
      "cell_type": "markdown",
      "metadata": {
        "id": "l34nBiNMqBlu"
      },
      "source": [
        "### Find all disinct combination of $x_i$"
      ]
    },
    {
      "cell_type": "code",
      "metadata": {
        "colab": {
          "base_uri": "https://localhost:8080/"
        },
        "id": "DL_tcU61xj0U",
        "outputId": "f61aa6dd-0959-46d8-923f-adb7d60d03f3"
      },
      "source": [
        "comb2 = findsubsets(range(len(X_ReLU_3d)), 2)\n",
        "print(len(comb2))\n",
        "comb4 = findsubsets(range(len(X_ReLU_3d)), 4)\n",
        "print(len(comb4))\n",
        "comb6 = findsubsets(range(len(X_ReLU_3d)), 6)\n",
        "print(len(comb6))"
      ],
      "execution_count": null,
      "outputs": [
        {
          "output_type": "stream",
          "text": [
            "10\n",
            "35\n",
            "84\n"
          ],
          "name": "stdout"
        }
      ]
    },
    {
      "cell_type": "markdown",
      "metadata": {
        "id": "2mVK3qirqcjF"
      },
      "source": [
        "### Calculate gaussian process 2, 4, 6-pt functions"
      ]
    },
    {
      "cell_type": "code",
      "metadata": {
        "id": "HUdI8hOhqeJ9"
      },
      "source": [
        "G_gp2_ReLU = []\n",
        "for c in comb2:\n",
        "    G_gp2_ReLU.append(G_gp2(X_ReLU_3d[c], K_ReLU, d_in=3.0))\n",
        "\n",
        "G_gp2_ReLU = dict(zip([tuple(c) for c in comb2], G_gp2_ReLU))"
      ],
      "execution_count": null,
      "outputs": []
    },
    {
      "cell_type": "code",
      "metadata": {
        "id": "UyJOHk4eqfpV"
      },
      "source": [
        "G_gp4_ReLU = []\n",
        "for c in comb4:\n",
        "    G_gp4_ReLU.append(G_gp4(X_ReLU_3d[c], K_ReLU, d_in=3.0))\n",
        "\n",
        "G_gp4_ReLU = dict(zip([tuple(c) for c in comb4], G_gp4_ReLU))"
      ],
      "execution_count": null,
      "outputs": []
    },
    {
      "cell_type": "code",
      "metadata": {
        "id": "y5ULEzRrqtBg"
      },
      "source": [
        "G_gp6_ReLU = []\n",
        "for c in comb6:\n",
        "    G_gp6_ReLU.append(G_gp6(X_ReLU_3d[c], K_ReLU, d_in=3.0))\n",
        "\n",
        "G_gp6_ReLU = dict(zip([tuple(c) for c in comb6], G_gp6_ReLU))"
      ],
      "execution_count": null,
      "outputs": []
    },
    {
      "cell_type": "markdown",
      "metadata": {
        "id": "PxZXsSuAqsO8"
      },
      "source": [
        "### Calculate the network output"
      ]
    },
    {
      "cell_type": "code",
      "metadata": {
        "colab": {
          "base_uri": "https://localhost:8080/"
        },
        "id": "oEpiqVj1rGVt",
        "outputId": "9ff901c5-af6f-4fa0-cbb8-29355357e165"
      },
      "source": [
        "%%time\n",
        "fx_exps = []\n",
        "\n",
        "N = 20\n",
        "\n",
        "print('Proceeding N =', N, '...')\n",
        "fx_exp = []\n",
        "for j in range(100):\n",
        "    Y = []\n",
        "    for i in range(100000):\n",
        "        m = ReLU(X_ReLU_3d, 3, N)\n",
        "        y = Dense(m, N, 1, sigmab2=0.0)\n",
        "        Y.append(y)\n",
        "    Y = np.array(Y).reshape(100000, 4)\n",
        "    fx_exp.append(Y)\n",
        "\n",
        "fx_exp = np.array(fx_exp)\n",
        "with open('/gdrive/MyDrive/RG/ReLU/fx_exp_3d.pickle', 'wb') as handle:\n",
        "    pickle.dump(fx_exp, handle)\n",
        "fx_exps.append(fx_exp)"
      ],
      "execution_count": null,
      "outputs": [
        {
          "output_type": "stream",
          "text": [
            "Proceeding N = 20 ...\n",
            "CPU times: user 6min 22s, sys: 2.24 s, total: 6min 24s\n",
            "Wall time: 6min 27s\n"
          ],
          "name": "stdout"
        }
      ]
    },
    {
      "cell_type": "markdown",
      "metadata": {
        "id": "rmZZJwogrjpT"
      },
      "source": [
        "### $\\Delta_{1234y}$"
      ]
    },
    {
      "cell_type": "code",
      "metadata": {
        "id": "3W5n_761rmBe"
      },
      "source": [
        "def integrand4(t1, t2, t3, x1, x2, x3, x4, K, d_in=1.0):\n",
        "    t = np.array([t1, t2, t3])\n",
        "    return np.maximum(K(x1, t, d_in=d_in) * K(x2, t, d_in=d_in) * K(x3, t, d_in=d_in) * K(x4, t, d_in=d_in), 1e-11)"
      ],
      "execution_count": null,
      "outputs": []
    },
    {
      "cell_type": "markdown",
      "metadata": {
        "id": "CfDdmmLdrooD"
      },
      "source": [
        "### $\\int d^{d_{in}}y \\; \\Delta_{1234y}$"
      ]
    },
    {
      "cell_type": "code",
      "metadata": {
        "id": "gWOFTq52roRj"
      },
      "source": [
        "def compute_integral4(X, comb, K, Lambda, integrand=integrand4, d_in=1.0):\n",
        "    res = []\n",
        "    for c in comb:\n",
        "        x1, x2, x3, x4 = X[c]\n",
        "        res.append(tplquad(integrand, -Lambda, Lambda, -Lambda, Lambda, -Lambda, Lambda, args=(x1, x2, x3, x4, K, d_in))[0])\n",
        "    return dict(zip([tuple(c) for c in comb], res))"
      ],
      "execution_count": null,
      "outputs": []
    },
    {
      "cell_type": "markdown",
      "metadata": {
        "id": "Y0Cl85jcsqWo"
      },
      "source": [
        "### Load experimental $G^{(4)}$ and $G^{(6)}$ result and compute $\\lambda_m$"
      ]
    },
    {
      "cell_type": "code",
      "metadata": {
        "id": "IajxeMdLspDk"
      },
      "source": [
        "lambdam4_ReLU = []\n",
        "G4_ReLU = []\n",
        "file = pathlib.Path('/gdrive/MyDrive/RG/ReLU/fx_exp_3d.pickle')\n",
        "Lambda_list = [7, 10, 15, 20, 30, 40, 50, 70, 100, 200, 500, 1000, 2000, 5000, 7000, 10000, 20000, 40000, 60000, 80000, 100000]\n",
        "\n",
        "with open(file, 'rb') as handle:\n",
        "    fx_exp = pickle.load(handle).reshape(10000000, 4)\n",
        "\n",
        "for c in comb4: \n",
        "    G4 = fx_exp[:, c].prod(1).mean()\n",
        "    G4_ReLU.append(G4)"
      ],
      "execution_count": null,
      "outputs": []
    },
    {
      "cell_type": "code",
      "metadata": {
        "colab": {
          "base_uri": "https://localhost:8080/"
        },
        "id": "i2xc9Sb0tGK5",
        "outputId": "b724b691-11aa-44f3-e1d4-705e39b04c9e"
      },
      "source": [
        "for Lambda in tqdm(Lambda_list):\n",
        "    \n",
        "    integral4_ReLU = compute_integral4(X_ReLU_3d, comb4, Kw_ReLU, Lambda, d_in=3.0)\n",
        "\n",
        "    for i, c in enumerate(comb4): \n",
        "        A = G_gp4_ReLU[tuple(c)]\n",
        "        B = 24 * integral4_ReLU[tuple(c)]\n",
        "        G4 = G4_ReLU[i]\n",
        "        lambdam4_ReLU.append((A - G4) / B)"
      ],
      "execution_count": null,
      "outputs": [
        {
          "output_type": "stream",
          "text": [
            "\n",
            "  0%|          | 0/21 [00:00<?, ?it/s]\u001b[A\n",
            "  5%|▍         | 1/21 [04:33<1:31:00, 273.05s/it]\u001b[A\n",
            " 10%|▉         | 2/21 [09:18<1:27:36, 276.68s/it]\u001b[A\n",
            " 14%|█▍        | 3/21 [14:00<1:23:32, 278.46s/it]\u001b[A\n",
            " 19%|█▉        | 4/21 [18:43<1:19:13, 279.64s/it]\u001b[A\n",
            " 24%|██▍       | 5/21 [23:27<1:14:58, 281.17s/it]\u001b[A\n",
            " 29%|██▊       | 6/21 [28:13<1:10:36, 282.45s/it]\u001b[A\n",
            " 33%|███▎      | 7/21 [33:04<1:06:30, 285.02s/it]\u001b[A\n",
            " 38%|███▊      | 8/21 [37:48<1:01:41, 284.73s/it]\u001b[A\n",
            " 43%|████▎     | 9/21 [42:33<56:56, 284.73s/it]  \u001b[A\n",
            " 48%|████▊     | 10/21 [47:21<52:24, 285.85s/it]\u001b[A\n",
            " 52%|█████▏    | 11/21 [52:13<47:55, 287.52s/it]\u001b[A\n",
            " 57%|█████▋    | 12/21 [57:05<43:21, 289.06s/it]\u001b[A\n",
            " 62%|██████▏   | 13/21 [1:01:50<38:22, 287.77s/it]\u001b[A\n",
            " 67%|██████▋   | 14/21 [1:06:34<33:26, 286.60s/it]\u001b[A\n",
            " 71%|███████▏  | 15/21 [1:11:17<28:34, 285.67s/it]\u001b[A\n",
            " 76%|███████▌  | 16/21 [1:16:02<23:46, 285.22s/it]\u001b[A\n",
            " 81%|████████  | 17/21 [1:20:45<18:59, 284.80s/it]\u001b[A\n",
            " 86%|████████▌ | 18/21 [1:25:29<14:13, 284.52s/it]\u001b[A\n",
            " 90%|█████████ | 19/21 [1:30:17<09:30, 285.38s/it]\u001b[A\n",
            " 95%|█████████▌| 20/21 [1:35:08<04:47, 287.16s/it]\u001b[A\n",
            "100%|██████████| 21/21 [1:39:56<00:00, 285.54s/it]\n"
          ],
          "name": "stderr"
        }
      ]
    },
    {
      "cell_type": "markdown",
      "metadata": {
        "id": "cBdm6E3uY0BE"
      },
      "source": [
        "### Plot Coupling Strength"
      ]
    },
    {
      "cell_type": "code",
      "metadata": {
        "id": "7upBElOuYrEi"
      },
      "source": [
        "lambdam4_ReLU_df = pd.DataFrame(np.log10(np.abs(lambdam4_ReLU).reshape(21, -1)))\n",
        "lambdam4_ReLU_df.index = np.log10(Lambda_list)"
      ],
      "execution_count": null,
      "outputs": []
    },
    {
      "cell_type": "code",
      "metadata": {
        "colab": {
          "base_uri": "https://localhost:8080/",
          "height": 307
        },
        "id": "uMoCV01NY6sE",
        "outputId": "220c926a-4032-40f2-804d-0a4f38c49429"
      },
      "source": [
        "# Fit the line\n",
        "x = np.log10(Lambda_list)\n",
        "y = lambdam4_ReLU_df.mean(1)\n",
        "z = np.polyfit(x, y, 1)\n",
        "p = np.poly1d(z)\n",
        "xp = x\n",
        "slope, intercept, r_value, p_value, std_err = scipy.stats.linregress(x, y)\n",
        "ax = lambdam4_ReLU_df.plot(legend=False, style='.', c='b')\n",
        "line = ax.plot(xp, p(xp), label='slope = ' + str(round(z[0], 3)) + ', $R^2 = $' + str(round(r_value**2, 3)), c='b')\n",
        "lines, labels = ax.get_legend_handles_labels()\n",
        "ax.legend([lines[-1]], [labels[-1]], loc='best')\n",
        "plt.xlabel(\"$log_{10}\\Lambda$\")\n",
        "plt.ylabel(\"$log_{10}\\lambda_m$\")\n",
        "plt.title(\"ReLU-net $\\lambda_m$, $N = 20, d_{in} = 3$\")\n",
        "plt.show()"
      ],
      "execution_count": null,
      "outputs": [
        {
          "output_type": "display_data",
          "data": {
            "image/png": "[encoded data removed]",
            "text/plain": [
              "<Figure size 432x288 with 1 Axes>"
            ]
          },
          "metadata": {
            "tags": []
          }
        }
      ]
    },
    {
      "cell_type": "code",
      "metadata": {
        "id": "ciFEHPCC0OjJ"
      },
      "source": [
        ""
      ],
      "execution_count": null,
      "outputs": []
    }
  ]
}