{
  "nbformat": 4,
  "nbformat_minor": 0,
  "metadata": {
    "colab": {
      "name": "NNNGP 4pt.ipynb",
      "provenance": [],
      "collapsed_sections": [],
      "toc_visible": true,
      "authorship_tag": "ABX9TyPCuy0RV9A2+qGsl3cyCgoW",
      "include_colab_link": true
    },
    "kernelspec": {
      "name": "python3",
      "display_name": "Python 3"
    },
    "language_info": {
      "name": "python"
    }
  },
  "cells": [
    {
      "cell_type": "markdown",
      "metadata": {
        "id": "view-in-github",
        "colab_type": "text"
      },
      "source": [
        "<a href=\"https://colab.research.google.com/github/Xuan-He-97/Neural-networks-and-quantum-field-theory/blob/main/NNNGP_4pt_coupling.ipynb\" target=\"_parent\"><img src=\"https://colab.research.google.com/assets/colab-badge.svg\" alt=\"Open In Colab\"/></a>"
      ]
    },
    {
      "cell_type": "code",
      "metadata": {
        "id": "lfncvmGdlyMn"
      },
      "source": [
        "import itertools\n",
        "import pickle\n",
        "import pathlib\n",
        "import os\n",
        "import numpy as np\n",
        "import pandas as pd\n",
        "from tensorflow.keras.layers import Dense, Layer\n",
        "from tensorflow.keras import Model\n",
        "from tensorflow.keras import initializers\n",
        "import matplotlib.pyplot as plt\n",
        "from scipy.special import erf\n",
        "import matplotlib.pyplot as plt\n",
        "import seaborn as sns\n",
        "sns.set()\n",
        "\n",
        "from scipy.integrate import quad\n",
        "from tqdm import tqdm"
      ],
      "execution_count": 2,
      "outputs": []
    },
    {
      "cell_type": "code",
      "metadata": {
        "colab": {
          "base_uri": "https://localhost:8080/"
        },
        "id": "DIZpqB_i6CO6",
        "outputId": "43095af8-eaab-4a03-bd6c-6a19b0060fc5"
      },
      "source": [
        "from google.colab import drive\n",
        "# log in to the google drive account\n",
        "drive.mount('/gdrive', force_remount=True)"
      ],
      "execution_count": 5,
      "outputs": [
        {
          "output_type": "stream",
          "text": [
            "Mounted at /gdrive\n"
          ],
          "name": "stdout"
        }
      ]
    },
    {
      "cell_type": "code",
      "metadata": {
        "id": "Wixt_uJWAqsa"
      },
      "source": [
        "Ns = [2, 3, 4, 5, 10, 20, 50, 100, 500, 1000]"
      ],
      "execution_count": 6,
      "outputs": []
    },
    {
      "cell_type": "code",
      "metadata": {
        "id": "66jl12RkAUqI"
      },
      "source": [
        "X_Gauss = np.array([[-0.01], [-0.006], [-0.002], [0.002], [0.006], [0.01]])\n",
        "X_erf = np.array([[0.002], [0.004], [0.006], [0.008], [0.010], [0.012]])\n",
        "X_ReLU = np.array([[0.2], [0.4], [0.6], [0.8], [1.0], [1.2]])"
      ],
      "execution_count": 7,
      "outputs": []
    },
    {
      "cell_type": "markdown",
      "metadata": {
        "id": "5s9tVjV4up9a"
      },
      "source": [
        "### Find all distinct combination of $G^{(n)}$"
      ]
    },
    {
      "cell_type": "code",
      "metadata": {
        "id": "3YLq2obt5kdW"
      },
      "source": [
        "def findsubsets(X, n):\n",
        "    res = []\n",
        "    for i1 in range(n+1):\n",
        "        for i2 in range(n+1-i1):\n",
        "            for i3 in range(n+1-i1-i2):\n",
        "                for i4 in range(n+1-i1-i2-i3):\n",
        "                    for i5 in range(n+1-i1-i2-i3-i4):\n",
        "                        i6 = n-i1-i2-i3-i4-i5\n",
        "                        res.append([X[0]]*i1 + [X[1]]*i2 + [X[2]]*i3 + [X[3]]*i4 + [X[4]]*i5 + [X[5]]*i6)\n",
        "    return res"
      ],
      "execution_count": 8,
      "outputs": []
    },
    {
      "cell_type": "code",
      "metadata": {
        "colab": {
          "base_uri": "https://localhost:8080/"
        },
        "id": "U1dFMvlc5gvs",
        "outputId": "2209e4fe-2861-4c99-c67f-6e60b9c0b6c4"
      },
      "source": [
        "comb2 = findsubsets([i for i in range(6)], 2)\n",
        "print(len(comb2))\n",
        "comb4 = findsubsets([i for i in range(6)], 4)\n",
        "print(len(comb4))\n",
        "comb6 = findsubsets([i for i in range(6)], 6)\n",
        "print(len(comb6))"
      ],
      "execution_count": 9,
      "outputs": [
        {
          "output_type": "stream",
          "text": [
            "21\n",
            "126\n",
            "462\n"
          ],
          "name": "stdout"
        }
      ]
    },
    {
      "cell_type": "markdown",
      "metadata": {
        "id": "twkGq3J2tYCC"
      },
      "source": [
        "### $\\Delta_{1234y}$"
      ]
    },
    {
      "cell_type": "code",
      "metadata": {
        "id": "g-0t-lZZnmM7"
      },
      "source": [
        "def integrand(t, x1, x2, x3, x4, K):\n",
        "    return K(x1, t) * K(x2, t) * K(x3, t) * K(x4, t)"
      ],
      "execution_count": 4,
      "outputs": []
    },
    {
      "cell_type": "markdown",
      "metadata": {
        "id": "rhzBLVrGvczx"
      },
      "source": [
        "### $\\int d^{d_{in}}y \\; \\Delta_{1234y}$"
      ]
    },
    {
      "cell_type": "code",
      "metadata": {
        "id": "OE8F9xHbXrnf"
      },
      "source": [
        "def compute_integral(X, comb, K, Lambda, integrand=integrand):\n",
        "    res = []\n",
        "    for c in comb:\n",
        "        x1, x2, x3, x4 = X[c]\n",
        "        res.append(quad(integrand, -Lambda, Lambda, args=(x1, x2, x3, x4, K))[0])\n",
        "    return dict(zip([tuple(c) for c in comb], res))"
      ],
      "execution_count": 10,
      "outputs": []
    },
    {
      "cell_type": "code",
      "metadata": {
        "id": "Mrq7DgIdgdPR"
      },
      "source": [
        "x = np.linspace(-30, 30, 10000)\n",
        "\n",
        "y = np.array([integrand(i, 0.002, 0.002, 0.002, 0.002, Kw_erf) for i in x])"
      ],
      "execution_count": 119,
      "outputs": []
    },
    {
      "cell_type": "code",
      "metadata": {
        "colab": {
          "base_uri": "https://localhost:8080/",
          "height": 268
        },
        "id": "97-UrA4ihReq",
        "outputId": "77a83c70-039d-4459-dcdc-4fbeb7f22342"
      },
      "source": [
        "plt.plot(x,y)\n",
        "plt.show()"
      ],
      "execution_count": 120,
      "outputs": [
        {
          "output_type": "display_data",
          "data": {
            "image/png": "[encoded data removed]",
            "text/plain": [
              "<Figure size 432x288 with 1 Axes>"
            ]
          },
          "metadata": {
            "tags": []
          }
        }
      ]
    },
    {
      "cell_type": "markdown",
      "metadata": {
        "id": "YPGD7r4pITQX"
      },
      "source": [
        "## Gauss-net"
      ]
    },
    {
      "cell_type": "markdown",
      "metadata": {
        "id": "WL9SwCvsnjo5"
      },
      "source": [
        "### Gauss-net $K(x_i, x_j)$ and $K_W(x_i, x_j)$"
      ]
    },
    {
      "cell_type": "code",
      "metadata": {
        "id": "9nogoqm3BnhG"
      },
      "source": [
        "def K_Gauss(x, y, sigmab2=1.0, sigmaw2=1.0, d_in=1.0):\n",
        "    return sigmab2 + sigmaw2 * np.exp(-sigmaw2 * np.square(x - y) / (2.0*d_in))"
      ],
      "execution_count": null,
      "outputs": []
    },
    {
      "cell_type": "code",
      "metadata": {
        "id": "FXfZnQwxmXas"
      },
      "source": [
        "def Kw_Gauss(x, y, sigmab2=1.0, sigmaw2=1.0, d_in=1.0):\n",
        "    return sigmaw2 * np.exp(-sigmaw2 * np.square(x - y) / (2.0*d_in))"
      ],
      "execution_count": null,
      "outputs": []
    },
    {
      "cell_type": "markdown",
      "metadata": {
        "id": "AtN-qBzJvoQg"
      },
      "source": [
        "### Compute $\\int d^{d_{in}}y \\; \\Delta_{1234y}$ and save the results"
      ]
    },
    {
      "cell_type": "code",
      "metadata": {
        "colab": {
          "base_uri": "https://localhost:8080/"
        },
        "id": "UwoNq6e9Z6S2",
        "outputId": "cb47b0cb-cd7d-4a92-dea7-07b36582d023"
      },
      "source": [
        "%%time\n",
        "integral = compute_integral(X_Gauss.reshape(-1), comb4, Kw_Gauss, np.inf)"
      ],
      "execution_count": null,
      "outputs": [
        {
          "output_type": "stream",
          "text": [
            "CPU times: user 620 ms, sys: 0 ns, total: 620 ms\n",
            "Wall time: 636 ms\n"
          ],
          "name": "stdout"
        }
      ]
    },
    {
      "cell_type": "markdown",
      "metadata": {
        "id": "-8gDhh6lvvZA"
      },
      "source": [
        "### Compute $K_W(x_i, x_j)$ and save the results"
      ]
    },
    {
      "cell_type": "code",
      "metadata": {
        "id": "0iT4bN7Cb1Vm"
      },
      "source": [
        "def compute_K(X, comb, K):\n",
        "    K_values = []\n",
        "    for c in comb:\n",
        "        x1, x2 = X[c]\n",
        "        K_values.append(K(x1, x2))\n",
        "    return dict(zip([tuple(c) for c in comb], K_values))"
      ],
      "execution_count": 18,
      "outputs": []
    },
    {
      "cell_type": "code",
      "metadata": {
        "id": "x00g781oc-iO"
      },
      "source": [
        "K_values = compute_K(X_Gauss.reshape(-1), comb2, K_Gauss)"
      ],
      "execution_count": null,
      "outputs": []
    },
    {
      "cell_type": "code",
      "metadata": {
        "colab": {
          "base_uri": "https://localhost:8080/"
        },
        "id": "iHVPohh6evdX",
        "outputId": "7ffe1fe4-fa82-4c3a-dead-219a829eda7f"
      },
      "source": [
        "K_values"
      ],
      "execution_count": null,
      "outputs": [
        {
          "output_type": "execute_result",
          "data": {
            "text/plain": [
              "{(0, 0): 2.0,\n",
              " (0, 1): 1.999992000032,\n",
              " (0, 2): 1.9999680005119944,\n",
              " (0, 3): 1.999928002591938,\n",
              " (0, 4): 1.9998720081916503,\n",
              " (0, 5): 1.9998000199986667,\n",
              " (1, 1): 2.0,\n",
              " (1, 2): 1.999992000032,\n",
              " (1, 3): 1.9999680005119944,\n",
              " (1, 4): 1.999928002591938,\n",
              " (1, 5): 1.9998720081916503,\n",
              " (2, 2): 2.0,\n",
              " (2, 3): 1.999992000032,\n",
              " (2, 4): 1.9999680005119944,\n",
              " (2, 5): 1.999928002591938,\n",
              " (3, 3): 2.0,\n",
              " (3, 4): 1.999992000032,\n",
              " (3, 5): 1.9999680005119944,\n",
              " (4, 4): 2.0,\n",
              " (4, 5): 1.999992000032,\n",
              " (5, 5): 2.0}"
            ]
          },
          "metadata": {
            "tags": []
          },
          "execution_count": 17
        }
      ]
    },
    {
      "cell_type": "markdown",
      "metadata": {
        "id": "FG18WC7muud5"
      },
      "source": [
        "### Load experimental $f(x)$ result and compute $\\lambda_m$"
      ]
    },
    {
      "cell_type": "code",
      "metadata": {
        "colab": {
          "base_uri": "https://localhost:8080/"
        },
        "id": "xtRhxxfyyXsv",
        "outputId": "491f18bc-f853-4282-9c43-2e6198003b55"
      },
      "source": [
        "dir = '/gdrive/MyDrive/NNGP/Gauss/'\n",
        "files = list(pathlib.Path(dir).glob('*'))\n",
        "lambdam = []\n",
        "for file in tqdm(files):\n",
        "    with open(file, 'rb') as handle:\n",
        "        fx_exp = pickle.load(handle).reshape(10000000, 6)\n",
        "        for c in comb4: \n",
        "            A = K_values[(c[0], c[1])]*K_values[(c[2], c[3])] + K_values[(c[0], c[2])]*K_values[(c[1], c[3])] + K_values[(c[0], c[3])]*K_values[(c[1], c[2])]\n",
        "            B = 24 * integral[tuple(c)]\n",
        "            G4 = fx_exp[:, c].prod(1).mean()\n",
        "            lambdam.append((A - G4) / B)"
      ],
      "execution_count": null,
      "outputs": [
        {
          "output_type": "stream",
          "text": [
            "100%|██████████| 10/10 [07:02<00:00, 42.26s/it]\n"
          ],
          "name": "stderr"
        }
      ]
    },
    {
      "cell_type": "markdown",
      "metadata": {
        "id": "Uqkx2OYQGpRv"
      },
      "source": [
        "### Plot $\\lambda_m$"
      ]
    },
    {
      "cell_type": "code",
      "metadata": {
        "id": "rYrUpWYgAUWr"
      },
      "source": [
        "lambdam_df = pd.DataFrame(np.log10(np.abs(lambdam).reshape(10, -1)))\n",
        "lambdam_df.index = np.log10(Ns)"
      ],
      "execution_count": null,
      "outputs": []
    },
    {
      "cell_type": "code",
      "metadata": {
        "colab": {
          "base_uri": "https://localhost:8080/",
          "height": 406
        },
        "id": "kKmd1kAiAsMa",
        "outputId": "d4b7e7a6-5851-44ac-a200-3db055753041"
      },
      "source": [
        "lambdam_df"
      ],
      "execution_count": null,
      "outputs": [
        {
          "output_type": "execute_result",
          "data": {
            "text/html": [
              "<div>\n",
              "<style scoped>\n",
              "    .dataframe tbody tr th:only-of-type {\n",
              "        vertical-align: middle;\n",
              "    }\n",
              "\n",
              "    .dataframe tbody tr th {\n",
              "        vertical-align: top;\n",
              "    }\n",
              "\n",
              "    .dataframe thead th {\n",
              "        text-align: right;\n",
              "    }\n",
              "</style>\n",
              "<table border=\"1\" class=\"dataframe\">\n",
              "  <thead>\n",
              "    <tr style=\"text-align: right;\">\n",
              "      <th></th>\n",
              "      <th>0</th>\n",
              "      <th>1</th>\n",
              "      <th>2</th>\n",
              "      <th>3</th>\n",
              "      <th>4</th>\n",
              "      <th>5</th>\n",
              "      <th>6</th>\n",
              "      <th>7</th>\n",
              "      <th>8</th>\n",
              "      <th>9</th>\n",
              "      <th>10</th>\n",
              "      <th>11</th>\n",
              "      <th>12</th>\n",
              "      <th>13</th>\n",
              "      <th>14</th>\n",
              "      <th>15</th>\n",
              "      <th>16</th>\n",
              "      <th>17</th>\n",
              "      <th>18</th>\n",
              "      <th>19</th>\n",
              "      <th>20</th>\n",
              "      <th>21</th>\n",
              "      <th>22</th>\n",
              "      <th>23</th>\n",
              "      <th>24</th>\n",
              "      <th>25</th>\n",
              "      <th>26</th>\n",
              "      <th>27</th>\n",
              "      <th>28</th>\n",
              "      <th>29</th>\n",
              "      <th>30</th>\n",
              "      <th>31</th>\n",
              "      <th>32</th>\n",
              "      <th>33</th>\n",
              "      <th>34</th>\n",
              "      <th>35</th>\n",
              "      <th>36</th>\n",
              "      <th>37</th>\n",
              "      <th>38</th>\n",
              "      <th>39</th>\n",
              "      <th>...</th>\n",
              "      <th>86</th>\n",
              "      <th>87</th>\n",
              "      <th>88</th>\n",
              "      <th>89</th>\n",
              "      <th>90</th>\n",
              "      <th>91</th>\n",
              "      <th>92</th>\n",
              "      <th>93</th>\n",
              "      <th>94</th>\n",
              "      <th>95</th>\n",
              "      <th>96</th>\n",
              "      <th>97</th>\n",
              "      <th>98</th>\n",
              "      <th>99</th>\n",
              "      <th>100</th>\n",
              "      <th>101</th>\n",
              "      <th>102</th>\n",
              "      <th>103</th>\n",
              "      <th>104</th>\n",
              "      <th>105</th>\n",
              "      <th>106</th>\n",
              "      <th>107</th>\n",
              "      <th>108</th>\n",
              "      <th>109</th>\n",
              "      <th>110</th>\n",
              "      <th>111</th>\n",
              "      <th>112</th>\n",
              "      <th>113</th>\n",
              "      <th>114</th>\n",
              "      <th>115</th>\n",
              "      <th>116</th>\n",
              "      <th>117</th>\n",
              "      <th>118</th>\n",
              "      <th>119</th>\n",
              "      <th>120</th>\n",
              "      <th>121</th>\n",
              "      <th>122</th>\n",
              "      <th>123</th>\n",
              "      <th>124</th>\n",
              "      <th>125</th>\n",
              "    </tr>\n",
              "  </thead>\n",
              "  <tbody>\n",
              "    <tr>\n",
              "      <th>0.301030</th>\n",
              "      <td>0.440796</td>\n",
              "      <td>0.440807</td>\n",
              "      <td>0.440823</td>\n",
              "      <td>0.440843</td>\n",
              "      <td>0.440868</td>\n",
              "      <td>0.440815</td>\n",
              "      <td>0.440836</td>\n",
              "      <td>0.440861</td>\n",
              "      <td>0.440890</td>\n",
              "      <td>0.440853</td>\n",
              "      <td>0.440883</td>\n",
              "      <td>0.440917</td>\n",
              "      <td>0.440910</td>\n",
              "      <td>0.440949</td>\n",
              "      <td>0.440986</td>\n",
              "      <td>0.440821</td>\n",
              "      <td>0.440846</td>\n",
              "      <td>0.440876</td>\n",
              "      <td>0.440910</td>\n",
              "      <td>0.440869</td>\n",
              "      <td>0.440903</td>\n",
              "      <td>0.440942</td>\n",
              "      <td>0.440935</td>\n",
              "      <td>0.440979</td>\n",
              "      <td>0.441020</td>\n",
              "      <td>0.440889</td>\n",
              "      <td>0.440928</td>\n",
              "      <td>0.440971</td>\n",
              "      <td>0.440964</td>\n",
              "      <td>0.441012</td>\n",
              "      <td>0.441058</td>\n",
              "      <td>0.440998</td>\n",
              "      <td>0.441051</td>\n",
              "      <td>0.441102</td>\n",
              "      <td>0.441150</td>\n",
              "      <td>0.440825</td>\n",
              "      <td>0.440854</td>\n",
              "      <td>0.440889</td>\n",
              "      <td>0.440928</td>\n",
              "      <td>0.440881</td>\n",
              "      <td>...</td>\n",
              "      <td>0.441058</td>\n",
              "      <td>0.441121</td>\n",
              "      <td>0.441181</td>\n",
              "      <td>0.441238</td>\n",
              "      <td>0.440947</td>\n",
              "      <td>0.441001</td>\n",
              "      <td>0.441058</td>\n",
              "      <td>0.441051</td>\n",
              "      <td>0.441114</td>\n",
              "      <td>0.441173</td>\n",
              "      <td>0.441099</td>\n",
              "      <td>0.441166</td>\n",
              "      <td>0.441231</td>\n",
              "      <td>0.441293</td>\n",
              "      <td>0.441145</td>\n",
              "      <td>0.441216</td>\n",
              "      <td>0.441286</td>\n",
              "      <td>0.441353</td>\n",
              "      <td>0.441417</td>\n",
              "      <td>0.440972</td>\n",
              "      <td>0.441029</td>\n",
              "      <td>0.441092</td>\n",
              "      <td>0.441085</td>\n",
              "      <td>0.441152</td>\n",
              "      <td>0.441216</td>\n",
              "      <td>0.441137</td>\n",
              "      <td>0.441209</td>\n",
              "      <td>0.441278</td>\n",
              "      <td>0.441345</td>\n",
              "      <td>0.441187</td>\n",
              "      <td>0.441264</td>\n",
              "      <td>0.441338</td>\n",
              "      <td>0.441410</td>\n",
              "      <td>0.441479</td>\n",
              "      <td>0.441235</td>\n",
              "      <td>0.441316</td>\n",
              "      <td>0.441395</td>\n",
              "      <td>0.441471</td>\n",
              "      <td>0.441545</td>\n",
              "      <td>0.441617</td>\n",
              "    </tr>\n",
              "    <tr>\n",
              "      <th>0.477121</th>\n",
              "      <td>0.166251</td>\n",
              "      <td>0.166324</td>\n",
              "      <td>0.166402</td>\n",
              "      <td>0.166484</td>\n",
              "      <td>0.166571</td>\n",
              "      <td>0.166395</td>\n",
              "      <td>0.166477</td>\n",
              "      <td>0.166564</td>\n",
              "      <td>0.166656</td>\n",
              "      <td>0.166557</td>\n",
              "      <td>0.166649</td>\n",
              "      <td>0.166745</td>\n",
              "      <td>0.166738</td>\n",
              "      <td>0.166839</td>\n",
              "      <td>0.166937</td>\n",
              "      <td>0.166463</td>\n",
              "      <td>0.166550</td>\n",
              "      <td>0.166642</td>\n",
              "      <td>0.166738</td>\n",
              "      <td>0.166634</td>\n",
              "      <td>0.166731</td>\n",
              "      <td>0.166831</td>\n",
              "      <td>0.166824</td>\n",
              "      <td>0.166930</td>\n",
              "      <td>0.167033</td>\n",
              "      <td>0.166716</td>\n",
              "      <td>0.166817</td>\n",
              "      <td>0.166923</td>\n",
              "      <td>0.166916</td>\n",
              "      <td>0.167026</td>\n",
              "      <td>0.167133</td>\n",
              "      <td>0.167011</td>\n",
              "      <td>0.167126</td>\n",
              "      <td>0.167238</td>\n",
              "      <td>0.167348</td>\n",
              "      <td>0.166529</td>\n",
              "      <td>0.166620</td>\n",
              "      <td>0.166716</td>\n",
              "      <td>0.166817</td>\n",
              "      <td>0.166709</td>\n",
              "      <td>...</td>\n",
              "      <td>0.167196</td>\n",
              "      <td>0.167319</td>\n",
              "      <td>0.167441</td>\n",
              "      <td>0.167560</td>\n",
              "      <td>0.166962</td>\n",
              "      <td>0.167076</td>\n",
              "      <td>0.167196</td>\n",
              "      <td>0.167189</td>\n",
              "      <td>0.167312</td>\n",
              "      <td>0.167434</td>\n",
              "      <td>0.167298</td>\n",
              "      <td>0.167427</td>\n",
              "      <td>0.167553</td>\n",
              "      <td>0.167676</td>\n",
              "      <td>0.167405</td>\n",
              "      <td>0.167538</td>\n",
              "      <td>0.167669</td>\n",
              "      <td>0.167797</td>\n",
              "      <td>0.167923</td>\n",
              "      <td>0.167048</td>\n",
              "      <td>0.167167</td>\n",
              "      <td>0.167291</td>\n",
              "      <td>0.167284</td>\n",
              "      <td>0.167412</td>\n",
              "      <td>0.167538</td>\n",
              "      <td>0.167398</td>\n",
              "      <td>0.167531</td>\n",
              "      <td>0.167662</td>\n",
              "      <td>0.167790</td>\n",
              "      <td>0.167510</td>\n",
              "      <td>0.167648</td>\n",
              "      <td>0.167783</td>\n",
              "      <td>0.167916</td>\n",
              "      <td>0.168046</td>\n",
              "      <td>0.167619</td>\n",
              "      <td>0.167762</td>\n",
              "      <td>0.167901</td>\n",
              "      <td>0.168039</td>\n",
              "      <td>0.168174</td>\n",
              "      <td>0.168306</td>\n",
              "    </tr>\n",
              "    <tr>\n",
              "      <th>0.602060</th>\n",
              "      <td>0.180641</td>\n",
              "      <td>0.180227</td>\n",
              "      <td>0.179817</td>\n",
              "      <td>0.179411</td>\n",
              "      <td>0.179009</td>\n",
              "      <td>0.179810</td>\n",
              "      <td>0.179404</td>\n",
              "      <td>0.179002</td>\n",
              "      <td>0.178604</td>\n",
              "      <td>0.178995</td>\n",
              "      <td>0.178597</td>\n",
              "      <td>0.178203</td>\n",
              "      <td>0.178196</td>\n",
              "      <td>0.177806</td>\n",
              "      <td>0.177413</td>\n",
              "      <td>0.179390</td>\n",
              "      <td>0.178988</td>\n",
              "      <td>0.178590</td>\n",
              "      <td>0.178196</td>\n",
              "      <td>0.178583</td>\n",
              "      <td>0.178189</td>\n",
              "      <td>0.177799</td>\n",
              "      <td>0.177792</td>\n",
              "      <td>0.177406</td>\n",
              "      <td>0.177016</td>\n",
              "      <td>0.178175</td>\n",
              "      <td>0.177785</td>\n",
              "      <td>0.177398</td>\n",
              "      <td>0.177391</td>\n",
              "      <td>0.177009</td>\n",
              "      <td>0.176624</td>\n",
              "      <td>0.176995</td>\n",
              "      <td>0.176617</td>\n",
              "      <td>0.176235</td>\n",
              "      <td>0.175851</td>\n",
              "      <td>0.178967</td>\n",
              "      <td>0.178569</td>\n",
              "      <td>0.178175</td>\n",
              "      <td>0.177785</td>\n",
              "      <td>0.178168</td>\n",
              "      <td>...</td>\n",
              "      <td>0.176193</td>\n",
              "      <td>0.175822</td>\n",
              "      <td>0.175449</td>\n",
              "      <td>0.175072</td>\n",
              "      <td>0.176945</td>\n",
              "      <td>0.176567</td>\n",
              "      <td>0.176193</td>\n",
              "      <td>0.176185</td>\n",
              "      <td>0.175815</td>\n",
              "      <td>0.175442</td>\n",
              "      <td>0.175801</td>\n",
              "      <td>0.175435</td>\n",
              "      <td>0.175065</td>\n",
              "      <td>0.174693</td>\n",
              "      <td>0.175413</td>\n",
              "      <td>0.175051</td>\n",
              "      <td>0.174686</td>\n",
              "      <td>0.174317</td>\n",
              "      <td>0.173946</td>\n",
              "      <td>0.176538</td>\n",
              "      <td>0.176164</td>\n",
              "      <td>0.175794</td>\n",
              "      <td>0.175787</td>\n",
              "      <td>0.175420</td>\n",
              "      <td>0.175051</td>\n",
              "      <td>0.175406</td>\n",
              "      <td>0.175044</td>\n",
              "      <td>0.174678</td>\n",
              "      <td>0.174310</td>\n",
              "      <td>0.175022</td>\n",
              "      <td>0.174664</td>\n",
              "      <td>0.174303</td>\n",
              "      <td>0.173938</td>\n",
              "      <td>0.173571</td>\n",
              "      <td>0.174636</td>\n",
              "      <td>0.174282</td>\n",
              "      <td>0.173924</td>\n",
              "      <td>0.173564</td>\n",
              "      <td>0.173200</td>\n",
              "      <td>0.172834</td>\n",
              "    </tr>\n",
              "    <tr>\n",
              "      <th>0.698970</th>\n",
              "      <td>0.040915</td>\n",
              "      <td>0.041069</td>\n",
              "      <td>0.041230</td>\n",
              "      <td>0.041398</td>\n",
              "      <td>0.041572</td>\n",
              "      <td>0.041223</td>\n",
              "      <td>0.041391</td>\n",
              "      <td>0.041565</td>\n",
              "      <td>0.041745</td>\n",
              "      <td>0.041558</td>\n",
              "      <td>0.041738</td>\n",
              "      <td>0.041926</td>\n",
              "      <td>0.041919</td>\n",
              "      <td>0.042113</td>\n",
              "      <td>0.042307</td>\n",
              "      <td>0.041376</td>\n",
              "      <td>0.041551</td>\n",
              "      <td>0.041731</td>\n",
              "      <td>0.041919</td>\n",
              "      <td>0.041724</td>\n",
              "      <td>0.041912</td>\n",
              "      <td>0.042106</td>\n",
              "      <td>0.042099</td>\n",
              "      <td>0.042300</td>\n",
              "      <td>0.042500</td>\n",
              "      <td>0.041898</td>\n",
              "      <td>0.042092</td>\n",
              "      <td>0.042293</td>\n",
              "      <td>0.042285</td>\n",
              "      <td>0.042493</td>\n",
              "      <td>0.042700</td>\n",
              "      <td>0.042479</td>\n",
              "      <td>0.042693</td>\n",
              "      <td>0.042907</td>\n",
              "      <td>0.043120</td>\n",
              "      <td>0.041529</td>\n",
              "      <td>0.041710</td>\n",
              "      <td>0.041898</td>\n",
              "      <td>0.042092</td>\n",
              "      <td>0.041890</td>\n",
              "      <td>...</td>\n",
              "      <td>0.042864</td>\n",
              "      <td>0.043092</td>\n",
              "      <td>0.043320</td>\n",
              "      <td>0.043547</td>\n",
              "      <td>0.042429</td>\n",
              "      <td>0.042644</td>\n",
              "      <td>0.042864</td>\n",
              "      <td>0.042857</td>\n",
              "      <td>0.043085</td>\n",
              "      <td>0.043312</td>\n",
              "      <td>0.043071</td>\n",
              "      <td>0.043305</td>\n",
              "      <td>0.043540</td>\n",
              "      <td>0.043773</td>\n",
              "      <td>0.043284</td>\n",
              "      <td>0.043525</td>\n",
              "      <td>0.043766</td>\n",
              "      <td>0.044007</td>\n",
              "      <td>0.044247</td>\n",
              "      <td>0.042615</td>\n",
              "      <td>0.042836</td>\n",
              "      <td>0.043064</td>\n",
              "      <td>0.043057</td>\n",
              "      <td>0.043291</td>\n",
              "      <td>0.043525</td>\n",
              "      <td>0.043277</td>\n",
              "      <td>0.043518</td>\n",
              "      <td>0.043759</td>\n",
              "      <td>0.044000</td>\n",
              "      <td>0.043497</td>\n",
              "      <td>0.043745</td>\n",
              "      <td>0.043993</td>\n",
              "      <td>0.044240</td>\n",
              "      <td>0.044488</td>\n",
              "      <td>0.043717</td>\n",
              "      <td>0.043972</td>\n",
              "      <td>0.044226</td>\n",
              "      <td>0.044480</td>\n",
              "      <td>0.044735</td>\n",
              "      <td>0.044988</td>\n",
              "    </tr>\n",
              "    <tr>\n",
              "      <th>1.000000</th>\n",
              "      <td>-0.264648</td>\n",
              "      <td>-0.264662</td>\n",
              "      <td>-0.264670</td>\n",
              "      <td>-0.264672</td>\n",
              "      <td>-0.264668</td>\n",
              "      <td>-0.264677</td>\n",
              "      <td>-0.264679</td>\n",
              "      <td>-0.264675</td>\n",
              "      <td>-0.264665</td>\n",
              "      <td>-0.264682</td>\n",
              "      <td>-0.264672</td>\n",
              "      <td>-0.264655</td>\n",
              "      <td>-0.264662</td>\n",
              "      <td>-0.264640</td>\n",
              "      <td>-0.264619</td>\n",
              "      <td>-0.264693</td>\n",
              "      <td>-0.264689</td>\n",
              "      <td>-0.264679</td>\n",
              "      <td>-0.264662</td>\n",
              "      <td>-0.264686</td>\n",
              "      <td>-0.264669</td>\n",
              "      <td>-0.264647</td>\n",
              "      <td>-0.264654</td>\n",
              "      <td>-0.264626</td>\n",
              "      <td>-0.264598</td>\n",
              "      <td>-0.264683</td>\n",
              "      <td>-0.264661</td>\n",
              "      <td>-0.264632</td>\n",
              "      <td>-0.264639</td>\n",
              "      <td>-0.264605</td>\n",
              "      <td>-0.264571</td>\n",
              "      <td>-0.264619</td>\n",
              "      <td>-0.264578</td>\n",
              "      <td>-0.264538</td>\n",
              "      <td>-0.264500</td>\n",
              "      <td>-0.264710</td>\n",
              "      <td>-0.264700</td>\n",
              "      <td>-0.264683</td>\n",
              "      <td>-0.264661</td>\n",
              "      <td>-0.264690</td>\n",
              "      <td>...</td>\n",
              "      <td>-0.264580</td>\n",
              "      <td>-0.264528</td>\n",
              "      <td>-0.264476</td>\n",
              "      <td>-0.264425</td>\n",
              "      <td>-0.264668</td>\n",
              "      <td>-0.264627</td>\n",
              "      <td>-0.264580</td>\n",
              "      <td>-0.264587</td>\n",
              "      <td>-0.264535</td>\n",
              "      <td>-0.264483</td>\n",
              "      <td>-0.264549</td>\n",
              "      <td>-0.264490</td>\n",
              "      <td>-0.264432</td>\n",
              "      <td>-0.264375</td>\n",
              "      <td>-0.264511</td>\n",
              "      <td>-0.264446</td>\n",
              "      <td>-0.264382</td>\n",
              "      <td>-0.264319</td>\n",
              "      <td>-0.264257</td>\n",
              "      <td>-0.264655</td>\n",
              "      <td>-0.264608</td>\n",
              "      <td>-0.264556</td>\n",
              "      <td>-0.264563</td>\n",
              "      <td>-0.264504</td>\n",
              "      <td>-0.264446</td>\n",
              "      <td>-0.264518</td>\n",
              "      <td>-0.264453</td>\n",
              "      <td>-0.264389</td>\n",
              "      <td>-0.264326</td>\n",
              "      <td>-0.264474</td>\n",
              "      <td>-0.264403</td>\n",
              "      <td>-0.264333</td>\n",
              "      <td>-0.264264</td>\n",
              "      <td>-0.264196</td>\n",
              "      <td>-0.264431</td>\n",
              "      <td>-0.264354</td>\n",
              "      <td>-0.264278</td>\n",
              "      <td>-0.264203</td>\n",
              "      <td>-0.264129</td>\n",
              "      <td>-0.264055</td>\n",
              "    </tr>\n",
              "    <tr>\n",
              "      <th>1.301030</th>\n",
              "      <td>-0.597020</td>\n",
              "      <td>-0.597017</td>\n",
              "      <td>-0.597009</td>\n",
              "      <td>-0.596996</td>\n",
              "      <td>-0.596979</td>\n",
              "      <td>-0.597016</td>\n",
              "      <td>-0.597003</td>\n",
              "      <td>-0.596986</td>\n",
              "      <td>-0.596964</td>\n",
              "      <td>-0.596993</td>\n",
              "      <td>-0.596971</td>\n",
              "      <td>-0.596945</td>\n",
              "      <td>-0.596952</td>\n",
              "      <td>-0.596921</td>\n",
              "      <td>-0.596892</td>\n",
              "      <td>-0.597018</td>\n",
              "      <td>-0.597000</td>\n",
              "      <td>-0.596979</td>\n",
              "      <td>-0.596952</td>\n",
              "      <td>-0.596986</td>\n",
              "      <td>-0.596959</td>\n",
              "      <td>-0.596928</td>\n",
              "      <td>-0.596935</td>\n",
              "      <td>-0.596899</td>\n",
              "      <td>-0.596866</td>\n",
              "      <td>-0.596973</td>\n",
              "      <td>-0.596942</td>\n",
              "      <td>-0.596907</td>\n",
              "      <td>-0.596914</td>\n",
              "      <td>-0.596873</td>\n",
              "      <td>-0.596835</td>\n",
              "      <td>-0.596888</td>\n",
              "      <td>-0.596843</td>\n",
              "      <td>-0.596800</td>\n",
              "      <td>-0.596760</td>\n",
              "      <td>-0.597022</td>\n",
              "      <td>-0.597000</td>\n",
              "      <td>-0.596973</td>\n",
              "      <td>-0.596942</td>\n",
              "      <td>-0.596981</td>\n",
              "      <td>...</td>\n",
              "      <td>-0.596843</td>\n",
              "      <td>-0.596789</td>\n",
              "      <td>-0.596737</td>\n",
              "      <td>-0.596688</td>\n",
              "      <td>-0.596937</td>\n",
              "      <td>-0.596892</td>\n",
              "      <td>-0.596843</td>\n",
              "      <td>-0.596850</td>\n",
              "      <td>-0.596796</td>\n",
              "      <td>-0.596744</td>\n",
              "      <td>-0.596810</td>\n",
              "      <td>-0.596751</td>\n",
              "      <td>-0.596695</td>\n",
              "      <td>-0.596641</td>\n",
              "      <td>-0.596773</td>\n",
              "      <td>-0.596709</td>\n",
              "      <td>-0.596648</td>\n",
              "      <td>-0.596590</td>\n",
              "      <td>-0.596534</td>\n",
              "      <td>-0.596921</td>\n",
              "      <td>-0.596871</td>\n",
              "      <td>-0.596817</td>\n",
              "      <td>-0.596824</td>\n",
              "      <td>-0.596765</td>\n",
              "      <td>-0.596709</td>\n",
              "      <td>-0.596780</td>\n",
              "      <td>-0.596716</td>\n",
              "      <td>-0.596655</td>\n",
              "      <td>-0.596597</td>\n",
              "      <td>-0.596738</td>\n",
              "      <td>-0.596669</td>\n",
              "      <td>-0.596604</td>\n",
              "      <td>-0.596541</td>\n",
              "      <td>-0.596480</td>\n",
              "      <td>-0.596698</td>\n",
              "      <td>-0.596625</td>\n",
              "      <td>-0.596555</td>\n",
              "      <td>-0.596488</td>\n",
              "      <td>-0.596422</td>\n",
              "      <td>-0.596360</td>\n",
              "    </tr>\n",
              "    <tr>\n",
              "      <th>1.698970</th>\n",
              "      <td>-0.994793</td>\n",
              "      <td>-0.994734</td>\n",
              "      <td>-0.994670</td>\n",
              "      <td>-0.994600</td>\n",
              "      <td>-0.994524</td>\n",
              "      <td>-0.994677</td>\n",
              "      <td>-0.994607</td>\n",
              "      <td>-0.994531</td>\n",
              "      <td>-0.994450</td>\n",
              "      <td>-0.994538</td>\n",
              "      <td>-0.994457</td>\n",
              "      <td>-0.994370</td>\n",
              "      <td>-0.994378</td>\n",
              "      <td>-0.994285</td>\n",
              "      <td>-0.994194</td>\n",
              "      <td>-0.994621</td>\n",
              "      <td>-0.994546</td>\n",
              "      <td>-0.994464</td>\n",
              "      <td>-0.994378</td>\n",
              "      <td>-0.994471</td>\n",
              "      <td>-0.994385</td>\n",
              "      <td>-0.994292</td>\n",
              "      <td>-0.994299</td>\n",
              "      <td>-0.994201</td>\n",
              "      <td>-0.994104</td>\n",
              "      <td>-0.994399</td>\n",
              "      <td>-0.994306</td>\n",
              "      <td>-0.994208</td>\n",
              "      <td>-0.994215</td>\n",
              "      <td>-0.994111</td>\n",
              "      <td>-0.994009</td>\n",
              "      <td>-0.994126</td>\n",
              "      <td>-0.994016</td>\n",
              "      <td>-0.993908</td>\n",
              "      <td>-0.993802</td>\n",
              "      <td>-0.994567</td>\n",
              "      <td>-0.994486</td>\n",
              "      <td>-0.994399</td>\n",
              "      <td>-0.994306</td>\n",
              "      <td>-0.994406</td>\n",
              "      <td>...</td>\n",
              "      <td>-0.993951</td>\n",
              "      <td>-0.993830</td>\n",
              "      <td>-0.993711</td>\n",
              "      <td>-0.993593</td>\n",
              "      <td>-0.994175</td>\n",
              "      <td>-0.994066</td>\n",
              "      <td>-0.993951</td>\n",
              "      <td>-0.993958</td>\n",
              "      <td>-0.993837</td>\n",
              "      <td>-0.993718</td>\n",
              "      <td>-0.993851</td>\n",
              "      <td>-0.993725</td>\n",
              "      <td>-0.993600</td>\n",
              "      <td>-0.993477</td>\n",
              "      <td>-0.993746</td>\n",
              "      <td>-0.993614</td>\n",
              "      <td>-0.993484</td>\n",
              "      <td>-0.993355</td>\n",
              "      <td>-0.993227</td>\n",
              "      <td>-0.994094</td>\n",
              "      <td>-0.993979</td>\n",
              "      <td>-0.993858</td>\n",
              "      <td>-0.993865</td>\n",
              "      <td>-0.993739</td>\n",
              "      <td>-0.993614</td>\n",
              "      <td>-0.993753</td>\n",
              "      <td>-0.993621</td>\n",
              "      <td>-0.993491</td>\n",
              "      <td>-0.993362</td>\n",
              "      <td>-0.993643</td>\n",
              "      <td>-0.993505</td>\n",
              "      <td>-0.993369</td>\n",
              "      <td>-0.993234</td>\n",
              "      <td>-0.993101</td>\n",
              "      <td>-0.993533</td>\n",
              "      <td>-0.993390</td>\n",
              "      <td>-0.993248</td>\n",
              "      <td>-0.993108</td>\n",
              "      <td>-0.992969</td>\n",
              "      <td>-0.992831</td>\n",
              "    </tr>\n",
              "    <tr>\n",
              "      <th>2.000000</th>\n",
              "      <td>-1.243522</td>\n",
              "      <td>-1.243595</td>\n",
              "      <td>-1.243663</td>\n",
              "      <td>-1.243725</td>\n",
              "      <td>-1.243781</td>\n",
              "      <td>-1.243670</td>\n",
              "      <td>-1.243732</td>\n",
              "      <td>-1.243788</td>\n",
              "      <td>-1.243839</td>\n",
              "      <td>-1.243795</td>\n",
              "      <td>-1.243846</td>\n",
              "      <td>-1.243891</td>\n",
              "      <td>-1.243898</td>\n",
              "      <td>-1.243937</td>\n",
              "      <td>-1.243978</td>\n",
              "      <td>-1.243746</td>\n",
              "      <td>-1.243802</td>\n",
              "      <td>-1.243853</td>\n",
              "      <td>-1.243898</td>\n",
              "      <td>-1.243860</td>\n",
              "      <td>-1.243905</td>\n",
              "      <td>-1.243944</td>\n",
              "      <td>-1.243951</td>\n",
              "      <td>-1.243985</td>\n",
              "      <td>-1.244020</td>\n",
              "      <td>-1.243919</td>\n",
              "      <td>-1.243958</td>\n",
              "      <td>-1.243992</td>\n",
              "      <td>-1.243999</td>\n",
              "      <td>-1.244027</td>\n",
              "      <td>-1.244056</td>\n",
              "      <td>-1.244041</td>\n",
              "      <td>-1.244063</td>\n",
              "      <td>-1.244087</td>\n",
              "      <td>-1.244112</td>\n",
              "      <td>-1.243823</td>\n",
              "      <td>-1.243874</td>\n",
              "      <td>-1.243919</td>\n",
              "      <td>-1.243958</td>\n",
              "      <td>-1.243926</td>\n",
              "      <td>...</td>\n",
              "      <td>-1.244129</td>\n",
              "      <td>-1.244140</td>\n",
              "      <td>-1.244153</td>\n",
              "      <td>-1.244167</td>\n",
              "      <td>-1.244090</td>\n",
              "      <td>-1.244113</td>\n",
              "      <td>-1.244129</td>\n",
              "      <td>-1.244136</td>\n",
              "      <td>-1.244147</td>\n",
              "      <td>-1.244160</td>\n",
              "      <td>-1.244162</td>\n",
              "      <td>-1.244167</td>\n",
              "      <td>-1.244174</td>\n",
              "      <td>-1.244182</td>\n",
              "      <td>-1.244188</td>\n",
              "      <td>-1.244188</td>\n",
              "      <td>-1.244189</td>\n",
              "      <td>-1.244192</td>\n",
              "      <td>-1.244195</td>\n",
              "      <td>-1.244141</td>\n",
              "      <td>-1.244158</td>\n",
              "      <td>-1.244169</td>\n",
              "      <td>-1.244176</td>\n",
              "      <td>-1.244181</td>\n",
              "      <td>-1.244188</td>\n",
              "      <td>-1.244195</td>\n",
              "      <td>-1.244195</td>\n",
              "      <td>-1.244196</td>\n",
              "      <td>-1.244199</td>\n",
              "      <td>-1.244216</td>\n",
              "      <td>-1.244210</td>\n",
              "      <td>-1.244206</td>\n",
              "      <td>-1.244203</td>\n",
              "      <td>-1.244201</td>\n",
              "      <td>-1.244238</td>\n",
              "      <td>-1.244227</td>\n",
              "      <td>-1.244217</td>\n",
              "      <td>-1.244208</td>\n",
              "      <td>-1.244201</td>\n",
              "      <td>-1.244195</td>\n",
              "    </tr>\n",
              "    <tr>\n",
              "      <th>2.698970</th>\n",
              "      <td>-2.002736</td>\n",
              "      <td>-2.002839</td>\n",
              "      <td>-2.002936</td>\n",
              "      <td>-2.003027</td>\n",
              "      <td>-2.003113</td>\n",
              "      <td>-2.002943</td>\n",
              "      <td>-2.003035</td>\n",
              "      <td>-2.003120</td>\n",
              "      <td>-2.003200</td>\n",
              "      <td>-2.003128</td>\n",
              "      <td>-2.003208</td>\n",
              "      <td>-2.003283</td>\n",
              "      <td>-2.003290</td>\n",
              "      <td>-2.003359</td>\n",
              "      <td>-2.003430</td>\n",
              "      <td>-2.003050</td>\n",
              "      <td>-2.003136</td>\n",
              "      <td>-2.003216</td>\n",
              "      <td>-2.003290</td>\n",
              "      <td>-2.003224</td>\n",
              "      <td>-2.003298</td>\n",
              "      <td>-2.003367</td>\n",
              "      <td>-2.003375</td>\n",
              "      <td>-2.003438</td>\n",
              "      <td>-2.003504</td>\n",
              "      <td>-2.003314</td>\n",
              "      <td>-2.003383</td>\n",
              "      <td>-2.003446</td>\n",
              "      <td>-2.003454</td>\n",
              "      <td>-2.003512</td>\n",
              "      <td>-2.003571</td>\n",
              "      <td>-2.003527</td>\n",
              "      <td>-2.003579</td>\n",
              "      <td>-2.003634</td>\n",
              "      <td>-2.003690</td>\n",
              "      <td>-2.003159</td>\n",
              "      <td>-2.003239</td>\n",
              "      <td>-2.003314</td>\n",
              "      <td>-2.003383</td>\n",
              "      <td>-2.003322</td>\n",
              "      <td>...</td>\n",
              "      <td>-2.003680</td>\n",
              "      <td>-2.003721</td>\n",
              "      <td>-2.003764</td>\n",
              "      <td>-2.003810</td>\n",
              "      <td>-2.003582</td>\n",
              "      <td>-2.003634</td>\n",
              "      <td>-2.003680</td>\n",
              "      <td>-2.003688</td>\n",
              "      <td>-2.003729</td>\n",
              "      <td>-2.003772</td>\n",
              "      <td>-2.003745</td>\n",
              "      <td>-2.003780</td>\n",
              "      <td>-2.003817</td>\n",
              "      <td>-2.003857</td>\n",
              "      <td>-2.003803</td>\n",
              "      <td>-2.003833</td>\n",
              "      <td>-2.003865</td>\n",
              "      <td>-2.003899</td>\n",
              "      <td>-2.003935</td>\n",
              "      <td>-2.003665</td>\n",
              "      <td>-2.003711</td>\n",
              "      <td>-2.003752</td>\n",
              "      <td>-2.003760</td>\n",
              "      <td>-2.003795</td>\n",
              "      <td>-2.003833</td>\n",
              "      <td>-2.003811</td>\n",
              "      <td>-2.003841</td>\n",
              "      <td>-2.003873</td>\n",
              "      <td>-2.003907</td>\n",
              "      <td>-2.003864</td>\n",
              "      <td>-2.003888</td>\n",
              "      <td>-2.003914</td>\n",
              "      <td>-2.003943</td>\n",
              "      <td>-2.003973</td>\n",
              "      <td>-2.003919</td>\n",
              "      <td>-2.003938</td>\n",
              "      <td>-2.003958</td>\n",
              "      <td>-2.003981</td>\n",
              "      <td>-2.004006</td>\n",
              "      <td>-2.004033</td>\n",
              "    </tr>\n",
              "    <tr>\n",
              "      <th>3.000000</th>\n",
              "      <td>-2.274078</td>\n",
              "      <td>-2.274039</td>\n",
              "      <td>-2.273995</td>\n",
              "      <td>-2.273946</td>\n",
              "      <td>-2.273892</td>\n",
              "      <td>-2.274003</td>\n",
              "      <td>-2.273954</td>\n",
              "      <td>-2.273899</td>\n",
              "      <td>-2.273839</td>\n",
              "      <td>-2.273906</td>\n",
              "      <td>-2.273847</td>\n",
              "      <td>-2.273782</td>\n",
              "      <td>-2.273789</td>\n",
              "      <td>-2.273719</td>\n",
              "      <td>-2.273651</td>\n",
              "      <td>-2.273968</td>\n",
              "      <td>-2.273914</td>\n",
              "      <td>-2.273854</td>\n",
              "      <td>-2.273789</td>\n",
              "      <td>-2.273861</td>\n",
              "      <td>-2.273796</td>\n",
              "      <td>-2.273726</td>\n",
              "      <td>-2.273734</td>\n",
              "      <td>-2.273658</td>\n",
              "      <td>-2.273585</td>\n",
              "      <td>-2.273811</td>\n",
              "      <td>-2.273741</td>\n",
              "      <td>-2.273665</td>\n",
              "      <td>-2.273673</td>\n",
              "      <td>-2.273592</td>\n",
              "      <td>-2.273514</td>\n",
              "      <td>-2.273607</td>\n",
              "      <td>-2.273521</td>\n",
              "      <td>-2.273437</td>\n",
              "      <td>-2.273355</td>\n",
              "      <td>-2.273936</td>\n",
              "      <td>-2.273876</td>\n",
              "      <td>-2.273811</td>\n",
              "      <td>-2.273741</td>\n",
              "      <td>-2.273819</td>\n",
              "      <td>...</td>\n",
              "      <td>-2.273481</td>\n",
              "      <td>-2.273385</td>\n",
              "      <td>-2.273291</td>\n",
              "      <td>-2.273199</td>\n",
              "      <td>-2.273659</td>\n",
              "      <td>-2.273573</td>\n",
              "      <td>-2.273481</td>\n",
              "      <td>-2.273489</td>\n",
              "      <td>-2.273392</td>\n",
              "      <td>-2.273298</td>\n",
              "      <td>-2.273407</td>\n",
              "      <td>-2.273305</td>\n",
              "      <td>-2.273206</td>\n",
              "      <td>-2.273109</td>\n",
              "      <td>-2.273328</td>\n",
              "      <td>-2.273221</td>\n",
              "      <td>-2.273116</td>\n",
              "      <td>-2.273013</td>\n",
              "      <td>-2.272913</td>\n",
              "      <td>-2.273602</td>\n",
              "      <td>-2.273511</td>\n",
              "      <td>-2.273415</td>\n",
              "      <td>-2.273422</td>\n",
              "      <td>-2.273320</td>\n",
              "      <td>-2.273221</td>\n",
              "      <td>-2.273335</td>\n",
              "      <td>-2.273228</td>\n",
              "      <td>-2.273123</td>\n",
              "      <td>-2.273021</td>\n",
              "      <td>-2.273250</td>\n",
              "      <td>-2.273138</td>\n",
              "      <td>-2.273028</td>\n",
              "      <td>-2.272920</td>\n",
              "      <td>-2.272815</td>\n",
              "      <td>-2.273168</td>\n",
              "      <td>-2.273050</td>\n",
              "      <td>-2.272935</td>\n",
              "      <td>-2.272822</td>\n",
              "      <td>-2.272711</td>\n",
              "      <td>-2.272603</td>\n",
              "    </tr>\n",
              "  </tbody>\n",
              "</table>\n",
              "<p>10 rows × 126 columns</p>\n",
              "</div>"
            ],
            "text/plain": [
              "               0         1         2    ...       123       124       125\n",
              "0.301030  0.440796  0.440807  0.440823  ...  0.441471  0.441545  0.441617\n",
              "0.477121  0.166251  0.166324  0.166402  ...  0.168039  0.168174  0.168306\n",
              "0.602060  0.180641  0.180227  0.179817  ...  0.173564  0.173200  0.172834\n",
              "0.698970  0.040915  0.041069  0.041230  ...  0.044480  0.044735  0.044988\n",
              "1.000000 -0.264648 -0.264662 -0.264670  ... -0.264203 -0.264129 -0.264055\n",
              "1.301030 -0.597020 -0.597017 -0.597009  ... -0.596488 -0.596422 -0.596360\n",
              "1.698970 -0.994793 -0.994734 -0.994670  ... -0.993108 -0.992969 -0.992831\n",
              "2.000000 -1.243522 -1.243595 -1.243663  ... -1.244208 -1.244201 -1.244195\n",
              "2.698970 -2.002736 -2.002839 -2.002936  ... -2.003981 -2.004006 -2.004033\n",
              "3.000000 -2.274078 -2.274039 -2.273995  ... -2.272822 -2.272711 -2.272603\n",
              "\n",
              "[10 rows x 126 columns]"
            ]
          },
          "metadata": {
            "tags": []
          },
          "execution_count": 22
        }
      ]
    },
    {
      "cell_type": "code",
      "metadata": {
        "colab": {
          "base_uri": "https://localhost:8080/",
          "height": 268
        },
        "id": "uysnZ8fL84TC",
        "outputId": "3594cb53-5313-47b9-d618-c82fea3fedca"
      },
      "source": [
        "ax = lambdam_df.plot(legend=False)\n",
        "plt.show()"
      ],
      "execution_count": null,
      "outputs": [
        {
          "output_type": "display_data",
          "data": {
            "image/png": "[encoded data removed]",
            "text/plain": [
              "<Figure size 432x288 with 1 Axes>"
            ]
          },
          "metadata": {
            "tags": [],
            "needs_background": "light"
          }
        }
      ]
    },
    {
      "cell_type": "markdown",
      "metadata": {
        "id": "_iHPIVSlI9P0"
      },
      "source": [
        "## ReLU-net"
      ]
    },
    {
      "cell_type": "markdown",
      "metadata": {
        "id": "_GXa4Mw4JAOM"
      },
      "source": [
        "### $K(x_i, x_j)$ and $K_W(x_i, x_j)$"
      ]
    },
    {
      "cell_type": "code",
      "metadata": {
        "id": "rxp5Sju1I82N"
      },
      "source": [
        "def K_ReLU(x, y, sigmab2=0.0, sigmaw2=1.0, d_in=1.0):\n",
        "\n",
        "    return sigmab2 + 0.5 * x * y"
      ],
      "execution_count": 11,
      "outputs": []
    },
    {
      "cell_type": "code",
      "metadata": {
        "id": "5M58yVw98Ba8"
      },
      "source": [
        "def Kw_ReLU(x, y, sigmab2=0.0, sigmaw2=1.0, d_in=1.0):\n",
        "    return 0.5 * x * y"
      ],
      "execution_count": 12,
      "outputs": []
    },
    {
      "cell_type": "markdown",
      "metadata": {
        "id": "M1Iw6eRSJNrf"
      },
      "source": [
        "### Compute $\\int d^{d_{in}}y \\; \\Delta_{1234y}$ and save the results"
      ]
    },
    {
      "cell_type": "code",
      "metadata": {
        "colab": {
          "base_uri": "https://localhost:8080/"
        },
        "id": "4gQ6jDTfJLpk",
        "outputId": "7ffd07f7-109a-4d12-f2e1-3f71f9d3cae6"
      },
      "source": [
        "%%time\n",
        "integral = compute_integral(X_ReLU.reshape(-1), comb4, Kw_ReLU, 100000)"
      ],
      "execution_count": 13,
      "outputs": [
        {
          "output_type": "stream",
          "text": [
            "CPU times: user 8.6 ms, sys: 0 ns, total: 8.6 ms\n",
            "Wall time: 12 ms\n"
          ],
          "name": "stdout"
        }
      ]
    },
    {
      "cell_type": "markdown",
      "metadata": {
        "id": "KjQRCRdaMb7s"
      },
      "source": [
        "### Compute $K_W(x_i, x_j)$ and save the results"
      ]
    },
    {
      "cell_type": "code",
      "metadata": {
        "id": "xVA1TmUvT0vq"
      },
      "source": [
        "K_values = compute_K(X_ReLU.reshape(-1), comb2, K_ReLU)"
      ],
      "execution_count": null,
      "outputs": []
    },
    {
      "cell_type": "code",
      "metadata": {
        "colab": {
          "base_uri": "https://localhost:8080/"
        },
        "id": "x-6AQjmMUO7W",
        "outputId": "0a56c36e-30d2-47ad-8fb5-c3b5f4519efe"
      },
      "source": [
        "K_values"
      ],
      "execution_count": null,
      "outputs": [
        {
          "output_type": "execute_result",
          "data": {
            "text/plain": [
              "{(0, 0): 0.020000000000000004,\n",
              " (0, 1): 0.04000000000000001,\n",
              " (0, 2): 0.06,\n",
              " (0, 3): 0.08000000000000002,\n",
              " (0, 4): 0.1,\n",
              " (0, 5): 0.12,\n",
              " (1, 1): 0.08000000000000002,\n",
              " (1, 2): 0.12,\n",
              " (1, 3): 0.16000000000000003,\n",
              " (1, 4): 0.2,\n",
              " (1, 5): 0.24,\n",
              " (2, 2): 0.18,\n",
              " (2, 3): 0.24,\n",
              " (2, 4): 0.3,\n",
              " (2, 5): 0.36,\n",
              " (3, 3): 0.32000000000000006,\n",
              " (3, 4): 0.4,\n",
              " (3, 5): 0.48,\n",
              " (4, 4): 0.5,\n",
              " (4, 5): 0.6,\n",
              " (5, 5): 0.72}"
            ]
          },
          "metadata": {
            "tags": []
          },
          "execution_count": 54
        }
      ]
    },
    {
      "cell_type": "markdown",
      "metadata": {
        "id": "Tk8XPCbuUOJr"
      },
      "source": [
        "### Load experimental $f(x)$ result and compute $\\lambda_m$"
      ]
    },
    {
      "cell_type": "code",
      "metadata": {
        "colab": {
          "base_uri": "https://localhost:8080/"
        },
        "id": "CZ5TSffgUNzi",
        "outputId": "085b9571-2eb8-467b-90da-ad99736e62f7"
      },
      "source": [
        "dir = '/gdrive/MyDrive/NNGP/ReLU/'\n",
        "files = list(pathlib.Path(dir).glob('*'))\n",
        "lambdam_ReLU = []\n",
        "for file in tqdm(files):\n",
        "    with open(file, 'rb') as handle:\n",
        "        fx_exp = pickle.load(handle).reshape(10000000, 6)\n",
        "        for c in comb4: \n",
        "            A = K_values[(c[0], c[1])]*K_values[(c[2], c[3])] + K_values[(c[0], c[2])]*K_values[(c[1], c[3])] + K_values[(c[0], c[3])]*K_values[(c[1], c[2])]\n",
        "            B = 24 * integral[tuple(c)]\n",
        "            G4 = fx_exp[:, c].prod(1).mean()\n",
        "            lambdam_ReLU.append((A - G4) / B)"
      ],
      "execution_count": null,
      "outputs": [
        {
          "output_type": "stream",
          "text": [
            "100%|██████████| 10/10 [07:14<00:00, 43.42s/it]\n"
          ],
          "name": "stderr"
        }
      ]
    },
    {
      "cell_type": "markdown",
      "metadata": {
        "id": "7P9pIYElUrdC"
      },
      "source": [
        "### Plot $\\lambda_m$"
      ]
    },
    {
      "cell_type": "code",
      "metadata": {
        "id": "DR8mRdTCUmoa"
      },
      "source": [
        "lambdam_ReLU_df = pd.DataFrame(np.log10(np.abs(lambdam_ReLU).reshape(10, -1)))\n",
        "lambdam_ReLU_df.index = np.log10(Ns)"
      ],
      "execution_count": null,
      "outputs": []
    },
    {
      "cell_type": "code",
      "metadata": {
        "colab": {
          "base_uri": "https://localhost:8080/",
          "height": 268
        },
        "id": "N-laufSCAYHa",
        "outputId": "3e2cb78f-f94c-4121-ff00-6c96d4c772dc"
      },
      "source": [
        "ax = lambdam_ReLU_df.plot(legend=False)\n",
        "plt.show()"
      ],
      "execution_count": null,
      "outputs": [
        {
          "output_type": "display_data",
          "data": {
            "image/png": "[encoded data removed]",
            "text/plain": [
              "<Figure size 432x288 with 1 Axes>"
            ]
          },
          "metadata": {
            "tags": [],
            "needs_background": "light"
          }
        }
      ]
    },
    {
      "cell_type": "markdown",
      "metadata": {
        "id": "fgekC_N7WLbb"
      },
      "source": [
        "## Erf-net"
      ]
    },
    {
      "cell_type": "markdown",
      "metadata": {
        "id": "Fi-hnb8rWOfZ"
      },
      "source": [
        "### $K(x_i, x_j)$ and $K_W(x_i, x_j)$"
      ]
    },
    {
      "cell_type": "code",
      "metadata": {
        "id": "swqECEksWMuI"
      },
      "source": [
        "def K_erf(x, y, sigmab2=1.0, sigmaw2=1.0, d_in=1.0):\n",
        "    xy = x * y\n",
        "    xx = x * x\n",
        "    yy = y * y\n",
        "    corr = np.sqrt((1.0 + 2.0*sigmab2 + 2.0*sigmaw2*xx/d_in) * (1.0 + 2.0*sigmab2 + 2.0*sigmaw2*yy/d_in))\n",
        "    return sigmab2 + sigmaw2 * (2.0 / np.pi) * np.arcsin(2.0 * (sigmab2 + sigmaw2*xy/d_in) / corr) "
      ],
      "execution_count": 14,
      "outputs": []
    },
    {
      "cell_type": "code",
      "metadata": {
        "id": "hSJCi1nKAjHg"
      },
      "source": [
        "def Kw_erf(x, y, sigmab2=1.0, sigmaw2=1.0, d_in=1.0):\n",
        "    xy = x * y\n",
        "    xx = x * x\n",
        "    yy = y * y\n",
        "    corr = np.sqrt((1.0 + 2.0*sigmab2 + 2.0*sigmaw2*xx/d_in) * (1.0 + 2.0*sigmab2 + 2.0*sigmaw2*yy/d_in))\n",
        "    return sigmaw2 * (2.0 / np.pi) * np.arcsin(2.0 * (sigmab2 + sigmaw2*xy/d_in) / corr) "
      ],
      "execution_count": 15,
      "outputs": []
    },
    {
      "cell_type": "markdown",
      "metadata": {
        "id": "5yuyfNC2Arva"
      },
      "source": [
        "### Compute $\\int d^{d_{in}}y \\; \\Delta_{1234y}$ and save the results"
      ]
    },
    {
      "cell_type": "code",
      "metadata": {
        "colab": {
          "base_uri": "https://localhost:8080/"
        },
        "id": "0sjmLOeDAlmI",
        "outputId": "355901f6-4b40-4744-fca4-d7834b3439f1"
      },
      "source": [
        "%%time\n",
        "integral = compute_integral(X_erf.reshape(-1), comb4, Kw_erf, 100)"
      ],
      "execution_count": 156,
      "outputs": [
        {
          "output_type": "stream",
          "text": [
            "CPU times: user 1.3 s, sys: 1.51 ms, total: 1.3 s\n",
            "Wall time: 1.31 s\n"
          ],
          "name": "stdout"
        }
      ]
    },
    {
      "cell_type": "markdown",
      "metadata": {
        "id": "0JUYo2_rBpEc"
      },
      "source": [
        "### Compute $K_W(x_i, x_j)$ and save the results"
      ]
    },
    {
      "cell_type": "code",
      "metadata": {
        "id": "8VxWxVrQBmpC"
      },
      "source": [
        "K_values = compute_K(X_erf.reshape(-1), comb2, K_erf)"
      ],
      "execution_count": 158,
      "outputs": []
    },
    {
      "cell_type": "code",
      "metadata": {
        "colab": {
          "base_uri": "https://localhost:8080/"
        },
        "id": "zVpWazLWB60X",
        "outputId": "51f752fe-cfd8-4402-fad2-850c7b3f9487"
      },
      "source": [
        "K_values"
      ],
      "execution_count": 159,
      "outputs": [
        {
          "output_type": "execute_result",
          "data": {
            "text/plain": [
              "{(0, 0): 1.4645598136092999,\n",
              " (0, 1): 1.4645598136108184,\n",
              " (0, 2): 1.4645582952270801,\n",
              " (0, 3): 1.4645552585406818,\n",
              " (0, 4): 1.4645507036803678,\n",
              " (0, 5): 1.4645446308210177,\n",
              " (1, 1): 1.4645620912251445,\n",
              " (1, 2): 1.4645628504214168,\n",
              " (1, 3): 1.4645620912494377,\n",
              " (1, 4): 1.4645598138051614,\n",
              " (1, 5): 1.4645560182306856,\n",
              " (2, 2): 1.4645658871867675,\n",
              " (2, 3): 1.4645674055401394,\n",
              " (2, 4): 1.4645674055446938,\n",
              " (2, 5): 1.464565887309742,\n",
              " (3, 3): 1.4645712013969983,\n",
              " (3, 4): 1.4645734788503837,\n",
              " (3, 5): 1.4645742379768165,\n",
              " (4, 4): 1.4645780337198069,\n",
              " (4, 5): 1.4645810701966937,\n",
              " (5, 5): 1.4645863839803137}"
            ]
          },
          "metadata": {
            "tags": []
          },
          "execution_count": 159
        }
      ]
    },
    {
      "cell_type": "markdown",
      "metadata": {
        "id": "um1ZXySbB_yY"
      },
      "source": [
        "### Load experimental $f(x)$ result and compute $\\lambda_m$"
      ]
    },
    {
      "cell_type": "code",
      "metadata": {
        "colab": {
          "base_uri": "https://localhost:8080/"
        },
        "id": "F3uqOxknB_Wb",
        "outputId": "0e683769-d498-4274-ca7c-3d30761b158d"
      },
      "source": [
        "dir = '/gdrive/MyDrive/NNGP/erf/'\n",
        "files = list(pathlib.Path(dir).glob('*'))\n",
        "lambdam_erf = []\n",
        "for file in tqdm(files):\n",
        "    with open(file, 'rb') as handle:\n",
        "        fx_exp = pickle.load(handle).reshape(10000000, 6)\n",
        "        for c in comb4: \n",
        "            A = K_values[(c[0], c[1])]*K_values[(c[2], c[3])] + K_values[(c[0], c[2])]*K_values[(c[1], c[3])] + K_values[(c[0], c[3])]*K_values[(c[1], c[2])]\n",
        "            B = 24 * integral[tuple(c)]\n",
        "            G4 = fx_exp[:, c].prod(1).mean()\n",
        "            lambdam_erf.append((A - G4) / B)"
      ],
      "execution_count": 160,
      "outputs": [
        {
          "output_type": "stream",
          "text": [
            "100%|██████████| 10/10 [07:09<00:00, 42.93s/it]\n"
          ],
          "name": "stderr"
        }
      ]
    },
    {
      "cell_type": "code",
      "metadata": {
        "id": "gCwCZzUYCHJQ"
      },
      "source": [
        "lambdam_erf_df = pd.DataFrame(np.log10(np.abs(lambdam_erf).reshape(10, -1)))\n",
        "lambdam_erf_df.index = np.log10(Ns)"
      ],
      "execution_count": 161,
      "outputs": []
    },
    {
      "cell_type": "code",
      "metadata": {
        "colab": {
          "base_uri": "https://localhost:8080/",
          "height": 268
        },
        "id": "7feQ37lHFZeJ",
        "outputId": "e01a3587-3bb6-4058-ec4a-baa864825e3b"
      },
      "source": [
        "ax = lambdam_erf_df.plot(legend=False)\n",
        "plt.show()"
      ],
      "execution_count": 162,
      "outputs": [
        {
          "output_type": "display_data",
          "data": {
            "image/png": "[encoded data removed]",
            "text/plain": [
              "<Figure size 432x288 with 1 Axes>"
            ]
          },
          "metadata": {
            "tags": []
          }
        }
      ]
    }
  ]
}